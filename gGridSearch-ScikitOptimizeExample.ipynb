{
 "cells": [
  {
   "cell_type": "code",
   "execution_count": 1,
   "metadata": {},
   "outputs": [],
   "source": [
    "import sys\n",
    "#!{sys.executable} -m pip install pandas-profiling"
   ]
  },
  {
   "cell_type": "code",
   "execution_count": 3,
   "metadata": {},
   "outputs": [],
   "source": [
    "#import pandas_profiling as pp"
   ]
  },
  {
   "cell_type": "code",
   "execution_count": 5,
   "metadata": {},
   "outputs": [],
   "source": [
    "%matplotlib inline  \n",
    "import warnings   # To avoid warning messages in the code run\n",
    "warnings.filterwarnings(\"ignore\")\n",
    "# To make data visualisations display in Jupyter Notebooks \n",
    "import numpy as np   # linear algebra\n",
    "import pandas as pd  # Data processing, Input & Output load\n",
    "import matplotlib.pyplot as plt # Visuvalization & plotting\n",
    "import seaborn as sns\n",
    "import datetime  \n",
    "from sklearn.linear_model import LogisticRegression #  Logistic Regression (aka logit) classifier in linear model\n",
    "import joblib  #Joblib is a set of tools to provide lightweight pipelining in Python (Avoid computing twice the same thing)\n",
    "\n",
    "from sklearn.model_selection import train_test_split, cross_val_score, GridSearchCV\n",
    "                                    # GridSearchCV - Implements a “fit” and a “score” method\n",
    "                                    # train_test_split - Split arrays or matrices into random train and test subsets\n",
    "                                    # cross_val_score - Evaluate a score by cross-validation\n",
    "from sklearn.ensemble import RandomForestClassifier\n",
    "from sklearn.metrics import f1_score, roc_auc_score, recall_score, precision_score, make_scorer, accuracy_score, roc_curve, confusion_matrix, classification_report\n",
    "                                    # Differnt metrics to evaluate the model \n",
    "#import pandas_profiling as pp   # simple and fast exploratory data analysis of a Pandas Dataframe\n",
    "from sklearn.preprocessing import LabelEncoder # Labeling the columns with 0 & 1"
   ]
  },
  {
   "cell_type": "code",
   "execution_count": 6,
   "metadata": {},
   "outputs": [],
   "source": [
    "def plot_roc_curve(y_train_actual, train_pred_prob, y_test_actual, test_pred_prob, *args):\n",
    "    '''\n",
    "    Generate the train & test roc curve\n",
    "    '''\n",
    "\n",
    "    AUC_Train = roc_auc_score(y_train_actual, train_pred_prob)\n",
    "    AUC_Test = roc_auc_score(y_test_actual, test_pred_prob)\n",
    "\n",
    "    if len(args) == 0:\n",
    "        print(\"Train AUC = \", AUC_Train)\n",
    "        print(\"Test AUC = \", AUC_Test)\n",
    "        fpr, tpr, thresholds = roc_curve(y_train_actual, train_pred_prob)\n",
    "        fpr_tst, tpr_tst, thresholds = roc_curve(y_test_actual, test_pred_prob)\n",
    "        roc_plot(fpr, tpr, fpr_tst, tpr_tst)\n",
    "\n",
    "    else:\n",
    "        AUC_Valid = roc_auc_score(args[0], args[1])\n",
    "        print(\"Train AUC = \", AUC_Train)\n",
    "        print(\"Test AUC = \", AUC_Test)\n",
    "        print(\"Validation AUC = \", AUC_Valid)\n",
    "        fpr, tpr, thresholds = roc_curve(y_train_actual, train_pred_prob)\n",
    "        fpr_tst, tpr_tst, thresholds = roc_curve(y_test_actual, test_pred_prob)\n",
    "        fpr_val, tpr_val, thresholds = roc_curve(args[0], args[1])\n",
    "        roc_plot(fpr, tpr, fpr_tst, tpr_tst, fpr_val, tpr_val)\n",
    "def roc_plot(fpr, tpr, fpr_tst, tpr_tst, *args):\n",
    "    '''\n",
    "    Generates roc plot\n",
    "    '''\n",
    "\n",
    "    fig = plt.plot(fpr, tpr, label='Train')\n",
    "    fig = plt.plot(fpr_tst, tpr_tst, label='Test')\n",
    "\n",
    "    if len(args) == 0:\n",
    "        plt.xlim([0.0, 1.0])\n",
    "        plt.ylim([0.0, 1.0])\n",
    "        plt.title(\"ROC curve using \")\n",
    "        plt.xlabel('False Positive Rate (1 - Specificity)')\n",
    "        plt.ylabel('True Positive Rate (Sensitivity)')\n",
    "        plt.legend(loc='lower right')\n",
    "        plt.grid(True)\n",
    "        plt.show()\n",
    "\n",
    "    else:\n",
    "        fig = plt.plot(args[0], args[1], label='Validation')\n",
    "        plt.xlim([0.0, 1.0])\n",
    "        plt.ylim([0.0, 1.0])\n",
    "        plt.title(\"ROC curve using \")\n",
    "        plt.xlabel('False Positive Rate (1 - Specificity)')\n",
    "        plt.ylabel('True Positive Rate (Sensitivity)')\n",
    "        plt.legend(loc='lower right')\n",
    "        plt.grid(True)\n",
    "        plt.show()"
   ]
  },
  {
   "cell_type": "code",
   "execution_count": 7,
   "metadata": {},
   "outputs": [],
   "source": [
    "Tdata = pd.read_csv(\"c:/python/RidgeRegression/TelcoCustomerChurn.csv\")"
   ]
  },
  {
   "cell_type": "code",
   "execution_count": 8,
   "metadata": {},
   "outputs": [
    {
     "name": "stdout",
     "output_type": "stream",
     "text": [
      "Rows     :  7043\n",
      "Columns  :  21\n"
     ]
    }
   ],
   "source": [
    "print (\"Rows     : \" ,Tdata.shape[0])\n",
    "print (\"Columns  : \" ,Tdata.shape[1])\n",
    "\n",
    "def df_summary(df):\n",
    "  df_U = df.nunique()\n",
    "  df_M = df.isnull().sum()\n",
    "  df_I = df.dtypes\n",
    "  df_U = df_U.to_frame().reset_index()\n",
    "  df_M = df_M.to_frame().reset_index()\n",
    "  df_I = df_I.to_frame().reset_index()\n",
    "  df_U = df_U.rename(columns= {0: 'Unique Data'})\n",
    "  df_M = df_M.rename(columns= {0: 'Missing Data'})\n",
    "  df_I = df_I.rename(columns= {0: 'Data Types'})\n",
    "  output = pd.merge(pd.merge(df_M,df_U,on='index'),df_I,on='index')\n",
    "  return output;"
   ]
  },
  {
   "cell_type": "code",
   "execution_count": 9,
   "metadata": {},
   "outputs": [
    {
     "data": {
      "text/html": [
       "<div>\n",
       "<style scoped>\n",
       "    .dataframe tbody tr th:only-of-type {\n",
       "        vertical-align: middle;\n",
       "    }\n",
       "\n",
       "    .dataframe tbody tr th {\n",
       "        vertical-align: top;\n",
       "    }\n",
       "\n",
       "    .dataframe thead th {\n",
       "        text-align: right;\n",
       "    }\n",
       "</style>\n",
       "<table border=\"1\" class=\"dataframe\">\n",
       "  <thead>\n",
       "    <tr style=\"text-align: right;\">\n",
       "      <th></th>\n",
       "      <th>index</th>\n",
       "      <th>Missing Data</th>\n",
       "      <th>Unique Data</th>\n",
       "      <th>Data Types</th>\n",
       "    </tr>\n",
       "  </thead>\n",
       "  <tbody>\n",
       "    <tr>\n",
       "      <th>0</th>\n",
       "      <td>customerID</td>\n",
       "      <td>0</td>\n",
       "      <td>7043</td>\n",
       "      <td>object</td>\n",
       "    </tr>\n",
       "    <tr>\n",
       "      <th>1</th>\n",
       "      <td>gender</td>\n",
       "      <td>0</td>\n",
       "      <td>2</td>\n",
       "      <td>object</td>\n",
       "    </tr>\n",
       "    <tr>\n",
       "      <th>2</th>\n",
       "      <td>V1</td>\n",
       "      <td>0</td>\n",
       "      <td>2</td>\n",
       "      <td>int64</td>\n",
       "    </tr>\n",
       "    <tr>\n",
       "      <th>3</th>\n",
       "      <td>V2</td>\n",
       "      <td>0</td>\n",
       "      <td>2</td>\n",
       "      <td>object</td>\n",
       "    </tr>\n",
       "    <tr>\n",
       "      <th>4</th>\n",
       "      <td>V3</td>\n",
       "      <td>0</td>\n",
       "      <td>2</td>\n",
       "      <td>object</td>\n",
       "    </tr>\n",
       "    <tr>\n",
       "      <th>5</th>\n",
       "      <td>V4</td>\n",
       "      <td>0</td>\n",
       "      <td>73</td>\n",
       "      <td>int64</td>\n",
       "    </tr>\n",
       "    <tr>\n",
       "      <th>6</th>\n",
       "      <td>V5</td>\n",
       "      <td>0</td>\n",
       "      <td>2</td>\n",
       "      <td>object</td>\n",
       "    </tr>\n",
       "    <tr>\n",
       "      <th>7</th>\n",
       "      <td>V6</td>\n",
       "      <td>0</td>\n",
       "      <td>3</td>\n",
       "      <td>object</td>\n",
       "    </tr>\n",
       "    <tr>\n",
       "      <th>8</th>\n",
       "      <td>V7</td>\n",
       "      <td>0</td>\n",
       "      <td>3</td>\n",
       "      <td>object</td>\n",
       "    </tr>\n",
       "    <tr>\n",
       "      <th>9</th>\n",
       "      <td>V8</td>\n",
       "      <td>0</td>\n",
       "      <td>3</td>\n",
       "      <td>object</td>\n",
       "    </tr>\n",
       "    <tr>\n",
       "      <th>10</th>\n",
       "      <td>V9</td>\n",
       "      <td>0</td>\n",
       "      <td>3</td>\n",
       "      <td>object</td>\n",
       "    </tr>\n",
       "    <tr>\n",
       "      <th>11</th>\n",
       "      <td>V10</td>\n",
       "      <td>0</td>\n",
       "      <td>3</td>\n",
       "      <td>object</td>\n",
       "    </tr>\n",
       "    <tr>\n",
       "      <th>12</th>\n",
       "      <td>V11</td>\n",
       "      <td>0</td>\n",
       "      <td>3</td>\n",
       "      <td>object</td>\n",
       "    </tr>\n",
       "    <tr>\n",
       "      <th>13</th>\n",
       "      <td>V12</td>\n",
       "      <td>0</td>\n",
       "      <td>3</td>\n",
       "      <td>object</td>\n",
       "    </tr>\n",
       "    <tr>\n",
       "      <th>14</th>\n",
       "      <td>V13</td>\n",
       "      <td>0</td>\n",
       "      <td>3</td>\n",
       "      <td>object</td>\n",
       "    </tr>\n",
       "    <tr>\n",
       "      <th>15</th>\n",
       "      <td>V14</td>\n",
       "      <td>0</td>\n",
       "      <td>3</td>\n",
       "      <td>object</td>\n",
       "    </tr>\n",
       "    <tr>\n",
       "      <th>16</th>\n",
       "      <td>V15</td>\n",
       "      <td>0</td>\n",
       "      <td>2</td>\n",
       "      <td>object</td>\n",
       "    </tr>\n",
       "    <tr>\n",
       "      <th>17</th>\n",
       "      <td>V16</td>\n",
       "      <td>0</td>\n",
       "      <td>4</td>\n",
       "      <td>object</td>\n",
       "    </tr>\n",
       "    <tr>\n",
       "      <th>18</th>\n",
       "      <td>V17</td>\n",
       "      <td>0</td>\n",
       "      <td>1585</td>\n",
       "      <td>float64</td>\n",
       "    </tr>\n",
       "    <tr>\n",
       "      <th>19</th>\n",
       "      <td>V18</td>\n",
       "      <td>0</td>\n",
       "      <td>6531</td>\n",
       "      <td>object</td>\n",
       "    </tr>\n",
       "    <tr>\n",
       "      <th>20</th>\n",
       "      <td>Churn</td>\n",
       "      <td>0</td>\n",
       "      <td>2</td>\n",
       "      <td>object</td>\n",
       "    </tr>\n",
       "  </tbody>\n",
       "</table>\n",
       "</div>"
      ],
      "text/plain": [
       "         index  Missing Data  Unique Data Data Types\n",
       "0   customerID             0         7043     object\n",
       "1       gender             0            2     object\n",
       "2           V1             0            2      int64\n",
       "3           V2             0            2     object\n",
       "4           V3             0            2     object\n",
       "5           V4             0           73      int64\n",
       "6           V5             0            2     object\n",
       "7           V6             0            3     object\n",
       "8           V7             0            3     object\n",
       "9           V8             0            3     object\n",
       "10          V9             0            3     object\n",
       "11         V10             0            3     object\n",
       "12         V11             0            3     object\n",
       "13         V12             0            3     object\n",
       "14         V13             0            3     object\n",
       "15         V14             0            3     object\n",
       "16         V15             0            2     object\n",
       "17         V16             0            4     object\n",
       "18         V17             0         1585    float64\n",
       "19         V18             0         6531     object\n",
       "20       Churn             0            2     object"
      ]
     },
     "execution_count": 9,
     "metadata": {},
     "output_type": "execute_result"
    }
   ],
   "source": [
    "df_summary(Tdata)"
   ]
  },
  {
   "cell_type": "code",
   "execution_count": 10,
   "metadata": {},
   "outputs": [
    {
     "data": {
      "text/plain": [
       "0      29.85\n",
       "1     1889.5\n",
       "2     108.15\n",
       "3    1840.75\n",
       "4     151.65\n",
       "Name: V18, dtype: object"
      ]
     },
     "execution_count": 10,
     "metadata": {},
     "output_type": "execute_result"
    }
   ],
   "source": [
    "Tdata.V18.head()"
   ]
  },
  {
   "cell_type": "code",
   "execution_count": 11,
   "metadata": {},
   "outputs": [
    {
     "data": {
      "text/plain": [
       "count    7032.000000\n",
       "mean     2283.300441\n",
       "std      2266.771362\n",
       "min        18.800000\n",
       "25%       401.450000\n",
       "50%      1397.475000\n",
       "75%      3794.737500\n",
       "max      8684.800000\n",
       "Name: V18, dtype: float64"
      ]
     },
     "execution_count": 11,
     "metadata": {},
     "output_type": "execute_result"
    }
   ],
   "source": [
    "Tdata.V18= pd.to_numeric(Tdata.V18, errors='coerce')\n",
    "Tdata.V18.describe()"
   ]
  },
  {
   "cell_type": "code",
   "execution_count": 12,
   "metadata": {},
   "outputs": [
    {
     "data": {
      "text/html": [
       "<div>\n",
       "<style scoped>\n",
       "    .dataframe tbody tr th:only-of-type {\n",
       "        vertical-align: middle;\n",
       "    }\n",
       "\n",
       "    .dataframe tbody tr th {\n",
       "        vertical-align: top;\n",
       "    }\n",
       "\n",
       "    .dataframe thead th {\n",
       "        text-align: right;\n",
       "    }\n",
       "</style>\n",
       "<table border=\"1\" class=\"dataframe\">\n",
       "  <thead>\n",
       "    <tr style=\"text-align: right;\">\n",
       "      <th></th>\n",
       "      <th>index</th>\n",
       "      <th>Missing Data</th>\n",
       "      <th>Unique Data</th>\n",
       "      <th>Data Types</th>\n",
       "    </tr>\n",
       "  </thead>\n",
       "  <tbody>\n",
       "    <tr>\n",
       "      <th>0</th>\n",
       "      <td>customerID</td>\n",
       "      <td>0</td>\n",
       "      <td>7043</td>\n",
       "      <td>object</td>\n",
       "    </tr>\n",
       "    <tr>\n",
       "      <th>1</th>\n",
       "      <td>gender</td>\n",
       "      <td>0</td>\n",
       "      <td>2</td>\n",
       "      <td>object</td>\n",
       "    </tr>\n",
       "    <tr>\n",
       "      <th>2</th>\n",
       "      <td>V1</td>\n",
       "      <td>0</td>\n",
       "      <td>2</td>\n",
       "      <td>int64</td>\n",
       "    </tr>\n",
       "    <tr>\n",
       "      <th>3</th>\n",
       "      <td>V2</td>\n",
       "      <td>0</td>\n",
       "      <td>2</td>\n",
       "      <td>object</td>\n",
       "    </tr>\n",
       "    <tr>\n",
       "      <th>4</th>\n",
       "      <td>V3</td>\n",
       "      <td>0</td>\n",
       "      <td>2</td>\n",
       "      <td>object</td>\n",
       "    </tr>\n",
       "    <tr>\n",
       "      <th>5</th>\n",
       "      <td>V4</td>\n",
       "      <td>0</td>\n",
       "      <td>73</td>\n",
       "      <td>int64</td>\n",
       "    </tr>\n",
       "    <tr>\n",
       "      <th>6</th>\n",
       "      <td>V5</td>\n",
       "      <td>0</td>\n",
       "      <td>2</td>\n",
       "      <td>object</td>\n",
       "    </tr>\n",
       "    <tr>\n",
       "      <th>7</th>\n",
       "      <td>V6</td>\n",
       "      <td>0</td>\n",
       "      <td>3</td>\n",
       "      <td>object</td>\n",
       "    </tr>\n",
       "    <tr>\n",
       "      <th>8</th>\n",
       "      <td>V7</td>\n",
       "      <td>0</td>\n",
       "      <td>3</td>\n",
       "      <td>object</td>\n",
       "    </tr>\n",
       "    <tr>\n",
       "      <th>9</th>\n",
       "      <td>V8</td>\n",
       "      <td>0</td>\n",
       "      <td>3</td>\n",
       "      <td>object</td>\n",
       "    </tr>\n",
       "    <tr>\n",
       "      <th>10</th>\n",
       "      <td>V9</td>\n",
       "      <td>0</td>\n",
       "      <td>3</td>\n",
       "      <td>object</td>\n",
       "    </tr>\n",
       "    <tr>\n",
       "      <th>11</th>\n",
       "      <td>V10</td>\n",
       "      <td>0</td>\n",
       "      <td>3</td>\n",
       "      <td>object</td>\n",
       "    </tr>\n",
       "    <tr>\n",
       "      <th>12</th>\n",
       "      <td>V11</td>\n",
       "      <td>0</td>\n",
       "      <td>3</td>\n",
       "      <td>object</td>\n",
       "    </tr>\n",
       "    <tr>\n",
       "      <th>13</th>\n",
       "      <td>V12</td>\n",
       "      <td>0</td>\n",
       "      <td>3</td>\n",
       "      <td>object</td>\n",
       "    </tr>\n",
       "    <tr>\n",
       "      <th>14</th>\n",
       "      <td>V13</td>\n",
       "      <td>0</td>\n",
       "      <td>3</td>\n",
       "      <td>object</td>\n",
       "    </tr>\n",
       "    <tr>\n",
       "      <th>15</th>\n",
       "      <td>V14</td>\n",
       "      <td>0</td>\n",
       "      <td>3</td>\n",
       "      <td>object</td>\n",
       "    </tr>\n",
       "    <tr>\n",
       "      <th>16</th>\n",
       "      <td>V15</td>\n",
       "      <td>0</td>\n",
       "      <td>2</td>\n",
       "      <td>object</td>\n",
       "    </tr>\n",
       "    <tr>\n",
       "      <th>17</th>\n",
       "      <td>V16</td>\n",
       "      <td>0</td>\n",
       "      <td>4</td>\n",
       "      <td>object</td>\n",
       "    </tr>\n",
       "    <tr>\n",
       "      <th>18</th>\n",
       "      <td>V17</td>\n",
       "      <td>0</td>\n",
       "      <td>1585</td>\n",
       "      <td>float64</td>\n",
       "    </tr>\n",
       "    <tr>\n",
       "      <th>19</th>\n",
       "      <td>V18</td>\n",
       "      <td>11</td>\n",
       "      <td>6530</td>\n",
       "      <td>float64</td>\n",
       "    </tr>\n",
       "    <tr>\n",
       "      <th>20</th>\n",
       "      <td>Churn</td>\n",
       "      <td>0</td>\n",
       "      <td>2</td>\n",
       "      <td>object</td>\n",
       "    </tr>\n",
       "  </tbody>\n",
       "</table>\n",
       "</div>"
      ],
      "text/plain": [
       "         index  Missing Data  Unique Data Data Types\n",
       "0   customerID             0         7043     object\n",
       "1       gender             0            2     object\n",
       "2           V1             0            2      int64\n",
       "3           V2             0            2     object\n",
       "4           V3             0            2     object\n",
       "5           V4             0           73      int64\n",
       "6           V5             0            2     object\n",
       "7           V6             0            3     object\n",
       "8           V7             0            3     object\n",
       "9           V8             0            3     object\n",
       "10          V9             0            3     object\n",
       "11         V10             0            3     object\n",
       "12         V11             0            3     object\n",
       "13         V12             0            3     object\n",
       "14         V13             0            3     object\n",
       "15         V14             0            3     object\n",
       "16         V15             0            2     object\n",
       "17         V16             0            4     object\n",
       "18         V17             0         1585    float64\n",
       "19         V18            11         6530    float64\n",
       "20       Churn             0            2     object"
      ]
     },
     "execution_count": 12,
     "metadata": {},
     "output_type": "execute_result"
    }
   ],
   "source": [
    "df_summary(Tdata)"
   ]
  },
  {
   "cell_type": "code",
   "execution_count": 13,
   "metadata": {},
   "outputs": [
    {
     "data": {
      "text/plain": [
       "0"
      ]
     },
     "execution_count": 13,
     "metadata": {},
     "output_type": "execute_result"
    }
   ],
   "source": [
    "Tdata['V18'].fillna((Tdata['V18'].mean()), inplace=True)\n",
    "Tdata['V18'].isnull().sum()\n",
    "#df_summary(Tdata)"
   ]
  },
  {
   "cell_type": "code",
   "execution_count": 14,
   "metadata": {},
   "outputs": [
    {
     "data": {
      "text/plain": [
       "Index(['gender', 'V1', 'V2', 'V3', 'V4', 'V5', 'V6', 'V7', 'V8', 'V9', 'V10',\n",
       "       'V11', 'V12', 'V13', 'V14', 'V15', 'V16', 'V17', 'V18', 'Churn'],\n",
       "      dtype='object')"
      ]
     },
     "execution_count": 14,
     "metadata": {},
     "output_type": "execute_result"
    }
   ],
   "source": [
    "Tdata.drop('customerID',axis=1, inplace=True)\n",
    "Tdata.columns"
   ]
  },
  {
   "cell_type": "code",
   "execution_count": 15,
   "metadata": {},
   "outputs": [
    {
     "name": "stdout",
     "output_type": "stream",
     "text": [
      "Number columns : \n",
      "['V1', 'V4', 'V17', 'V18']\n",
      "Catogarical columns :\n",
      "['gender', 'V2', 'V3', 'V5', 'V6', 'V7', 'V8', 'V9', 'V10', 'V11', 'V12', 'V13', 'V14', 'V15', 'V16', 'Churn']\n"
     ]
    }
   ],
   "source": [
    "#Lets seprate Numerical columns and object columns seperatly\n",
    "Num_cols = Tdata.select_dtypes(include=['float64','int64']).columns.tolist()\n",
    "Cat_cols = Tdata.select_dtypes(include=['object']).columns.tolist()\n",
    "print(\"Number columns : \",Num_cols , \"Catogarical columns :\" ,Cat_cols,sep=\"\\n\")"
   ]
  },
  {
   "cell_type": "code",
   "execution_count": 16,
   "metadata": {},
   "outputs": [
    {
     "data": {
      "text/html": [
       "<div>\n",
       "<style scoped>\n",
       "    .dataframe tbody tr th:only-of-type {\n",
       "        vertical-align: middle;\n",
       "    }\n",
       "\n",
       "    .dataframe tbody tr th {\n",
       "        vertical-align: top;\n",
       "    }\n",
       "\n",
       "    .dataframe thead th {\n",
       "        text-align: right;\n",
       "    }\n",
       "</style>\n",
       "<table border=\"1\" class=\"dataframe\">\n",
       "  <thead>\n",
       "    <tr style=\"text-align: right;\">\n",
       "      <th></th>\n",
       "      <th>V1</th>\n",
       "      <th>V4</th>\n",
       "      <th>V17</th>\n",
       "      <th>V18</th>\n",
       "    </tr>\n",
       "  </thead>\n",
       "  <tbody>\n",
       "    <tr>\n",
       "      <th>count</th>\n",
       "      <td>7043.000000</td>\n",
       "      <td>7043.000000</td>\n",
       "      <td>7043.000000</td>\n",
       "      <td>7043.000000</td>\n",
       "    </tr>\n",
       "    <tr>\n",
       "      <th>mean</th>\n",
       "      <td>0.162147</td>\n",
       "      <td>32.371149</td>\n",
       "      <td>64.761692</td>\n",
       "      <td>2283.300441</td>\n",
       "    </tr>\n",
       "    <tr>\n",
       "      <th>std</th>\n",
       "      <td>0.368612</td>\n",
       "      <td>24.559481</td>\n",
       "      <td>30.090047</td>\n",
       "      <td>2265.000258</td>\n",
       "    </tr>\n",
       "    <tr>\n",
       "      <th>min</th>\n",
       "      <td>0.000000</td>\n",
       "      <td>0.000000</td>\n",
       "      <td>18.250000</td>\n",
       "      <td>18.800000</td>\n",
       "    </tr>\n",
       "    <tr>\n",
       "      <th>25%</th>\n",
       "      <td>0.000000</td>\n",
       "      <td>9.000000</td>\n",
       "      <td>35.500000</td>\n",
       "      <td>402.225000</td>\n",
       "    </tr>\n",
       "    <tr>\n",
       "      <th>50%</th>\n",
       "      <td>0.000000</td>\n",
       "      <td>29.000000</td>\n",
       "      <td>70.350000</td>\n",
       "      <td>1400.550000</td>\n",
       "    </tr>\n",
       "    <tr>\n",
       "      <th>75%</th>\n",
       "      <td>0.000000</td>\n",
       "      <td>55.000000</td>\n",
       "      <td>89.850000</td>\n",
       "      <td>3786.600000</td>\n",
       "    </tr>\n",
       "    <tr>\n",
       "      <th>max</th>\n",
       "      <td>1.000000</td>\n",
       "      <td>72.000000</td>\n",
       "      <td>118.750000</td>\n",
       "      <td>8684.800000</td>\n",
       "    </tr>\n",
       "  </tbody>\n",
       "</table>\n",
       "</div>"
      ],
      "text/plain": [
       "                V1           V4          V17          V18\n",
       "count  7043.000000  7043.000000  7043.000000  7043.000000\n",
       "mean      0.162147    32.371149    64.761692  2283.300441\n",
       "std       0.368612    24.559481    30.090047  2265.000258\n",
       "min       0.000000     0.000000    18.250000    18.800000\n",
       "25%       0.000000     9.000000    35.500000   402.225000\n",
       "50%       0.000000    29.000000    70.350000  1400.550000\n",
       "75%       0.000000    55.000000    89.850000  3786.600000\n",
       "max       1.000000    72.000000   118.750000  8684.800000"
      ]
     },
     "execution_count": 16,
     "metadata": {},
     "output_type": "execute_result"
    }
   ],
   "source": [
    "#Lets see all the categorical & Numerical information one by one\n",
    "#Numerical variables we can use describe function directly\n",
    "Tdata[Num_cols].describe()"
   ]
  },
  {
   "cell_type": "code",
   "execution_count": 17,
   "metadata": {},
   "outputs": [
    {
     "data": {
      "image/png": "[encoded data removed]",
      "text/plain": [
       "<Figure size 720x720 with 4 Axes>"
      ]
     },
     "metadata": {
      "needs_background": "light"
     },
     "output_type": "display_data"
    }
   ],
   "source": [
    "Tdata[Num_cols].hist(figsize = (10,10));"
   ]
  },
  {
   "cell_type": "code",
   "execution_count": 18,
   "metadata": {},
   "outputs": [],
   "source": [
    "#Data is skewed in V17 & V18 variables\n",
    "#Lets see the binaary and multiclass variables\n",
    "#Creating function to see all the object data type variables using single function"
   ]
  },
  {
   "cell_type": "code",
   "execution_count": 19,
   "metadata": {},
   "outputs": [],
   "source": [
    "def cat_col_desc(data):\n",
    "    col_list = data.select_dtypes(include=['object']).columns.tolist()\n",
    "    for i in col_list: \n",
    "        print(\"Variable :\", i)\n",
    "        print(\"Count of unique values :\", len(set( data[i])))\n",
    "        print(\"Unique values : \" ,set( data[i]))\n",
    "        print(\"================================\")"
   ]
  },
  {
   "cell_type": "code",
   "execution_count": 20,
   "metadata": {},
   "outputs": [
    {
     "name": "stdout",
     "output_type": "stream",
     "text": [
      "Variable : gender\n",
      "Count of unique values : 2\n",
      "Unique values :  {'Female', 'Male'}\n",
      "================================\n",
      "Variable : V2\n",
      "Count of unique values : 2\n",
      "Unique values :  {'No', 'Yes'}\n",
      "================================\n",
      "Variable : V3\n",
      "Count of unique values : 2\n",
      "Unique values :  {'No', 'Yes'}\n",
      "================================\n",
      "Variable : V5\n",
      "Count of unique values : 2\n",
      "Unique values :  {'No', 'Yes'}\n",
      "================================\n",
      "Variable : V6\n",
      "Count of unique values : 3\n",
      "Unique values :  {'No phone service', 'Yes', 'No'}\n",
      "================================\n",
      "Variable : V7\n",
      "Count of unique values : 3\n",
      "Unique values :  {'No', 'DSL', 'Fiber optic'}\n",
      "================================\n",
      "Variable : V8\n",
      "Count of unique values : 3\n",
      "Unique values :  {'No internet service', 'No', 'Yes'}\n",
      "================================\n",
      "Variable : V9\n",
      "Count of unique values : 3\n",
      "Unique values :  {'No internet service', 'No', 'Yes'}\n",
      "================================\n",
      "Variable : V10\n",
      "Count of unique values : 3\n",
      "Unique values :  {'No internet service', 'No', 'Yes'}\n",
      "================================\n",
      "Variable : V11\n",
      "Count of unique values : 3\n",
      "Unique values :  {'No internet service', 'No', 'Yes'}\n",
      "================================\n",
      "Variable : V12\n",
      "Count of unique values : 3\n",
      "Unique values :  {'No internet service', 'No', 'Yes'}\n",
      "================================\n",
      "Variable : V13\n",
      "Count of unique values : 3\n",
      "Unique values :  {'No internet service', 'No', 'Yes'}\n",
      "================================\n",
      "Variable : V14\n",
      "Count of unique values : 3\n",
      "Unique values :  {'One year', 'Two year', 'Month-to-month'}\n",
      "================================\n",
      "Variable : V15\n",
      "Count of unique values : 2\n",
      "Unique values :  {'No', 'Yes'}\n",
      "================================\n",
      "Variable : V16\n",
      "Count of unique values : 4\n",
      "Unique values :  {'Credit card (automatic)', 'Mailed check', 'Bank transfer (automatic)', 'Electronic check'}\n",
      "================================\n",
      "Variable : Churn\n",
      "Count of unique values : 2\n",
      "Unique values :  {'No', 'Yes'}\n",
      "================================\n"
     ]
    }
   ],
   "source": [
    "cat_col_desc(Tdata)"
   ]
  },
  {
   "cell_type": "code",
   "execution_count": 21,
   "metadata": {},
   "outputs": [
    {
     "data": {
      "text/plain": [
       "<matplotlib.axes._subplots.AxesSubplot at 0x204678e0a08>"
      ]
     },
     "execution_count": 21,
     "metadata": {},
     "output_type": "execute_result"
    },
    {
     "data": {
      "image/png": "[encoded data removed]",
      "text/plain": [
       "<Figure size 432x288 with 1 Axes>"
      ]
     },
     "metadata": {
      "needs_background": "light"
     },
     "output_type": "display_data"
    }
   ],
   "source": [
    "sns.countplot(x=\"Churn\", hue=\"gender\", data=Tdata)"
   ]
  },
  {
   "cell_type": "code",
   "execution_count": 22,
   "metadata": {},
   "outputs": [
    {
     "name": "stdout",
     "output_type": "stream",
     "text": [
      "['gender', 'V2', 'V3', 'V5', 'V15', 'Churn']\n",
      "['V6', 'V7', 'V8', 'V9', 'V10', 'V11', 'V12', 'V13', 'V14', 'V16']\n"
     ]
    }
   ],
   "source": [
    "Binary_class = Tdata[Cat_cols].nunique()[Tdata[Cat_cols].nunique() == 2].keys().tolist()\n",
    "Multi_class =  Tdata[Cat_cols].nunique()[Tdata[Cat_cols].nunique() > 2].keys().tolist()\n",
    "print(Binary_class)\n",
    "print(Multi_class)"
   ]
  },
  {
   "cell_type": "code",
   "execution_count": 23,
   "metadata": {},
   "outputs": [
    {
     "data": {
      "image/png": "[encoded data removed]",
      "text/plain": [
       "<Figure size 1080x864 with 9 Axes>"
      ]
     },
     "metadata": {
      "needs_background": "light"
     },
     "output_type": "display_data"
    }
   ],
   "source": [
    "fig, axes = plt.subplots(nrows = 3,ncols = 3,figsize = (15,12))\n",
    "for i, item in enumerate(Multi_class):\n",
    "    if i < 3:\n",
    "        ax = Tdata[item].value_counts().plot(kind = 'bar',ax=axes[i,0],rot = 0)\n",
    "        \n",
    "    elif i >=3 and i < 6:\n",
    "        ax = Tdata[item].value_counts().plot(kind = 'bar',ax=axes[i-3,1],rot = 0)\n",
    "        \n",
    "    elif i < 9:\n",
    "        ax = Tdata[item].value_counts().plot(kind = 'bar',ax=axes[i-6,2],rot = 0)\n",
    "    ax.set_title(item)"
   ]
  },
  {
   "cell_type": "code",
   "execution_count": 24,
   "metadata": {},
   "outputs": [
    {
     "data": {
      "text/plain": [
       "<seaborn.axisgrid.FacetGrid at 0x204679bc188>"
      ]
     },
     "execution_count": 24,
     "metadata": {},
     "output_type": "execute_result"
    },
    {
     "data": {
      "image/png": "[encoded data removed]",
      "text/plain": [
       "<Figure size 403.2x288 with 2 Axes>"
      ]
     },
     "metadata": {
      "needs_background": "light"
     },
     "output_type": "display_data"
    }
   ],
   "source": [
    "sns.catplot(x=\"V2\", hue=\"Churn\", col=\"Churn\",data=Tdata, kind=\"count\",height=4, aspect=.7,  facecolor=(0, 0, 0, 0),\n",
    "linewidth=5,edgecolor=sns.color_palette(\"dark\", 5))"
   ]
  },
  {
   "cell_type": "code",
   "execution_count": 25,
   "metadata": {},
   "outputs": [
    {
     "data": {
      "text/plain": [
       "<seaborn.axisgrid.FacetGrid at 0x20467f40608>"
      ]
     },
     "execution_count": 25,
     "metadata": {},
     "output_type": "execute_result"
    },
    {
     "data": {
      "image/png": "[encoded data removed]",
      "text/plain": [
       "<Figure size 403.2x288 with 2 Axes>"
      ]
     },
     "metadata": {
      "needs_background": "light"
     },
     "output_type": "display_data"
    }
   ],
   "source": [
    "sns.catplot(x=\"V3\", hue=\"Churn\", col=\"Churn\",data=Tdata, kind=\"count\",height=4, aspect=.7,  facecolor=(0, 0, 0, 0),\n",
    "linewidth=5,edgecolor=sns.color_palette(\"dark\", 5))"
   ]
  },
  {
   "cell_type": "code",
   "execution_count": 26,
   "metadata": {},
   "outputs": [
    {
     "data": {
      "text/plain": [
       "<seaborn.axisgrid.FacetGrid at 0x20467f79988>"
      ]
     },
     "execution_count": 26,
     "metadata": {},
     "output_type": "execute_result"
    },
    {
     "data": {
      "image/png": "[encoded data removed]",
      "text/plain": [
       "<Figure size 403.2x288 with 2 Axes>"
      ]
     },
     "metadata": {
      "needs_background": "light"
     },
     "output_type": "display_data"
    }
   ],
   "source": [
    "sns.catplot(x=\"V5\", hue=\"Churn\", col=\"Churn\",data=Tdata, kind=\"count\",height=4, aspect=.7,  facecolor=(0, 0, 0, 0),\n",
    "linewidth=5,edgecolor=sns.color_palette(\"dark\", 5))"
   ]
  },
  {
   "cell_type": "code",
   "execution_count": 27,
   "metadata": {},
   "outputs": [
    {
     "data": {
      "text/plain": [
       "<seaborn.axisgrid.FacetGrid at 0x204680d4d48>"
      ]
     },
     "execution_count": 27,
     "metadata": {},
     "output_type": "execute_result"
    },
    {
     "data": {
      "image/png": "[encoded data removed]",
      "text/plain": [
       "<Figure size 403.2x288 with 2 Axes>"
      ]
     },
     "metadata": {
      "needs_background": "light"
     },
     "output_type": "display_data"
    }
   ],
   "source": [
    "sns.catplot(x=\"V15\", hue=\"Churn\", col=\"Churn\",data=Tdata, kind=\"count\",height=4, aspect=.7,  facecolor=(0, 0, 0, 0),\n",
    "linewidth=5,edgecolor=sns.color_palette(\"dark\", 5))"
   ]
  },
  {
   "cell_type": "code",
   "execution_count": 28,
   "metadata": {},
   "outputs": [],
   "source": [
    "#Label encoding Binary columns\n",
    "le = LabelEncoder()\n",
    "for i in Binary_class :\n",
    "    Tdata[i] = le.fit_transform(Tdata[i])"
   ]
  },
  {
   "cell_type": "code",
   "execution_count": 29,
   "metadata": {},
   "outputs": [
    {
     "data": {
      "text/plain": [
       "(7043, 6)"
      ]
     },
     "execution_count": 29,
     "metadata": {},
     "output_type": "execute_result"
    }
   ],
   "source": [
    "Tdata[Binary_class].shape"
   ]
  },
  {
   "cell_type": "code",
   "execution_count": 30,
   "metadata": {},
   "outputs": [
    {
     "data": {
      "text/plain": [
       "(7043, 4)"
      ]
     },
     "execution_count": 30,
     "metadata": {},
     "output_type": "execute_result"
    }
   ],
   "source": [
    "Tdata[Num_cols].shape"
   ]
  },
  {
   "cell_type": "code",
   "execution_count": 31,
   "metadata": {},
   "outputs": [
    {
     "data": {
      "text/html": [
       "<div>\n",
       "<style scoped>\n",
       "    .dataframe tbody tr th:only-of-type {\n",
       "        vertical-align: middle;\n",
       "    }\n",
       "\n",
       "    .dataframe tbody tr th {\n",
       "        vertical-align: top;\n",
       "    }\n",
       "\n",
       "    .dataframe thead th {\n",
       "        text-align: right;\n",
       "    }\n",
       "</style>\n",
       "<table border=\"1\" class=\"dataframe\">\n",
       "  <thead>\n",
       "    <tr style=\"text-align: right;\">\n",
       "      <th></th>\n",
       "      <th>V6_No</th>\n",
       "      <th>V6_No phone service</th>\n",
       "      <th>V6_Yes</th>\n",
       "      <th>V7_DSL</th>\n",
       "      <th>V7_Fiber optic</th>\n",
       "      <th>V7_No</th>\n",
       "      <th>V8_No</th>\n",
       "      <th>V8_No internet service</th>\n",
       "      <th>V8_Yes</th>\n",
       "      <th>V9_No</th>\n",
       "      <th>...</th>\n",
       "      <th>V13_No</th>\n",
       "      <th>V13_No internet service</th>\n",
       "      <th>V13_Yes</th>\n",
       "      <th>V14_Month-to-month</th>\n",
       "      <th>V14_One year</th>\n",
       "      <th>V14_Two year</th>\n",
       "      <th>V16_Bank transfer (automatic)</th>\n",
       "      <th>V16_Credit card (automatic)</th>\n",
       "      <th>V16_Electronic check</th>\n",
       "      <th>V16_Mailed check</th>\n",
       "    </tr>\n",
       "  </thead>\n",
       "  <tbody>\n",
       "    <tr>\n",
       "      <th>0</th>\n",
       "      <td>0</td>\n",
       "      <td>1</td>\n",
       "      <td>0</td>\n",
       "      <td>1</td>\n",
       "      <td>0</td>\n",
       "      <td>0</td>\n",
       "      <td>1</td>\n",
       "      <td>0</td>\n",
       "      <td>0</td>\n",
       "      <td>0</td>\n",
       "      <td>...</td>\n",
       "      <td>1</td>\n",
       "      <td>0</td>\n",
       "      <td>0</td>\n",
       "      <td>1</td>\n",
       "      <td>0</td>\n",
       "      <td>0</td>\n",
       "      <td>0</td>\n",
       "      <td>0</td>\n",
       "      <td>1</td>\n",
       "      <td>0</td>\n",
       "    </tr>\n",
       "    <tr>\n",
       "      <th>1</th>\n",
       "      <td>1</td>\n",
       "      <td>0</td>\n",
       "      <td>0</td>\n",
       "      <td>1</td>\n",
       "      <td>0</td>\n",
       "      <td>0</td>\n",
       "      <td>0</td>\n",
       "      <td>0</td>\n",
       "      <td>1</td>\n",
       "      <td>1</td>\n",
       "      <td>...</td>\n",
       "      <td>1</td>\n",
       "      <td>0</td>\n",
       "      <td>0</td>\n",
       "      <td>0</td>\n",
       "      <td>1</td>\n",
       "      <td>0</td>\n",
       "      <td>0</td>\n",
       "      <td>0</td>\n",
       "      <td>0</td>\n",
       "      <td>1</td>\n",
       "    </tr>\n",
       "    <tr>\n",
       "      <th>2</th>\n",
       "      <td>1</td>\n",
       "      <td>0</td>\n",
       "      <td>0</td>\n",
       "      <td>1</td>\n",
       "      <td>0</td>\n",
       "      <td>0</td>\n",
       "      <td>0</td>\n",
       "      <td>0</td>\n",
       "      <td>1</td>\n",
       "      <td>0</td>\n",
       "      <td>...</td>\n",
       "      <td>1</td>\n",
       "      <td>0</td>\n",
       "      <td>0</td>\n",
       "      <td>1</td>\n",
       "      <td>0</td>\n",
       "      <td>0</td>\n",
       "      <td>0</td>\n",
       "      <td>0</td>\n",
       "      <td>0</td>\n",
       "      <td>1</td>\n",
       "    </tr>\n",
       "    <tr>\n",
       "      <th>3</th>\n",
       "      <td>0</td>\n",
       "      <td>1</td>\n",
       "      <td>0</td>\n",
       "      <td>1</td>\n",
       "      <td>0</td>\n",
       "      <td>0</td>\n",
       "      <td>0</td>\n",
       "      <td>0</td>\n",
       "      <td>1</td>\n",
       "      <td>1</td>\n",
       "      <td>...</td>\n",
       "      <td>1</td>\n",
       "      <td>0</td>\n",
       "      <td>0</td>\n",
       "      <td>0</td>\n",
       "      <td>1</td>\n",
       "      <td>0</td>\n",
       "      <td>1</td>\n",
       "      <td>0</td>\n",
       "      <td>0</td>\n",
       "      <td>0</td>\n",
       "    </tr>\n",
       "    <tr>\n",
       "      <th>4</th>\n",
       "      <td>1</td>\n",
       "      <td>0</td>\n",
       "      <td>0</td>\n",
       "      <td>0</td>\n",
       "      <td>1</td>\n",
       "      <td>0</td>\n",
       "      <td>1</td>\n",
       "      <td>0</td>\n",
       "      <td>0</td>\n",
       "      <td>1</td>\n",
       "      <td>...</td>\n",
       "      <td>1</td>\n",
       "      <td>0</td>\n",
       "      <td>0</td>\n",
       "      <td>1</td>\n",
       "      <td>0</td>\n",
       "      <td>0</td>\n",
       "      <td>0</td>\n",
       "      <td>0</td>\n",
       "      <td>1</td>\n",
       "      <td>0</td>\n",
       "    </tr>\n",
       "  </tbody>\n",
       "</table>\n",
       "<p>5 rows × 31 columns</p>\n",
       "</div>"
      ],
      "text/plain": [
       "   V6_No  V6_No phone service  V6_Yes  V7_DSL  V7_Fiber optic  V7_No  V8_No  \\\n",
       "0      0                    1       0       1               0      0      1   \n",
       "1      1                    0       0       1               0      0      0   \n",
       "2      1                    0       0       1               0      0      0   \n",
       "3      0                    1       0       1               0      0      0   \n",
       "4      1                    0       0       0               1      0      1   \n",
       "\n",
       "   V8_No internet service  V8_Yes  V9_No  ...  V13_No  \\\n",
       "0                       0       0      0  ...       1   \n",
       "1                       0       1      1  ...       1   \n",
       "2                       0       1      0  ...       1   \n",
       "3                       0       1      1  ...       1   \n",
       "4                       0       0      1  ...       1   \n",
       "\n",
       "   V13_No internet service  V13_Yes  V14_Month-to-month  V14_One year  \\\n",
       "0                        0        0                   1             0   \n",
       "1                        0        0                   0             1   \n",
       "2                        0        0                   1             0   \n",
       "3                        0        0                   0             1   \n",
       "4                        0        0                   1             0   \n",
       "\n",
       "   V14_Two year  V16_Bank transfer (automatic)  V16_Credit card (automatic)  \\\n",
       "0             0                              0                            0   \n",
       "1             0                              0                            0   \n",
       "2             0                              0                            0   \n",
       "3             0                              1                            0   \n",
       "4             0                              0                            0   \n",
       "\n",
       "   V16_Electronic check  V16_Mailed check  \n",
       "0                     1                 0  \n",
       "1                     0                 1  \n",
       "2                     0                 1  \n",
       "3                     0                 0  \n",
       "4                     1                 0  \n",
       "\n",
       "[5 rows x 31 columns]"
      ]
     },
     "execution_count": 31,
     "metadata": {},
     "output_type": "execute_result"
    }
   ],
   "source": [
    "# Split multi class catergory columns as dummies  \n",
    "Tdata_Dummy = pd.get_dummies(Tdata[Multi_class])\n",
    "Tdata_Dummy.head()"
   ]
  },
  {
   "cell_type": "code",
   "execution_count": 32,
   "metadata": {},
   "outputs": [
    {
     "data": {
      "text/plain": [
       "(7043, 41)"
      ]
     },
     "execution_count": 32,
     "metadata": {},
     "output_type": "execute_result"
    }
   ],
   "source": [
    "New_df = pd.concat([Tdata[Num_cols],Tdata[Binary_class],Tdata_Dummy], axis=1)\n",
    "New_df.shape"
   ]
  },
  {
   "cell_type": "code",
   "execution_count": 33,
   "metadata": {},
   "outputs": [
    {
     "data": {
      "image/png": "[encoded data removed]",
      "text/plain": [
       "<Figure size 432x288 with 1 Axes>"
      ]
     },
     "metadata": {},
     "output_type": "display_data"
    }
   ],
   "source": [
    "labels =New_df['Churn'].value_counts(sort = True).index\n",
    "sizes = New_df['Churn'].value_counts(sort = True)\n",
    "\n",
    "colors = [\"whitesmoke\",\"red\"]\n",
    "explode = (0.1,0)  # explode 1st slice\n",
    " \n",
    "plt.pie(sizes, explode=explode, labels=labels, colors=colors,autopct='%1.1f%%', shadow=True, startangle=270,)\n",
    "\n",
    "plt.title('Percent of churn in customer')\n",
    "plt.show()"
   ]
  },
  {
   "cell_type": "code",
   "execution_count": 34,
   "metadata": {},
   "outputs": [],
   "source": [
    "#correlation\n",
    "#Lets check the correlation between the variables\n",
    "#correlation\n",
    "corr = New_df.corr()"
   ]
  },
  {
   "cell_type": "code",
   "execution_count": 35,
   "metadata": {},
   "outputs": [
    {
     "data": {
      "image/png": "[encoded data removed]",
      "text/plain": [
       "<Figure size 792x648 with 2 Axes>"
      ]
     },
     "metadata": {
      "needs_background": "light"
     },
     "output_type": "display_data"
    }
   ],
   "source": [
    "# Generate a mask for the upper triangle\n",
    "mask = np.zeros_like(corr, dtype=np.bool)\n",
    "mask[np.triu_indices_from(mask)] = True\n",
    "\n",
    "# Set up the matplotlib figure\n",
    "f, ax = plt.subplots(figsize=(11, 9))\n",
    "\n",
    "# Generate a custom diverging colormap\n",
    "cmap=sns.light_palette(\"seagreen\", reverse=True)\n",
    "\n",
    "# Draw the heatmap with the mask and correct aspect ratio\n",
    "sns.heatmap(corr, mask=mask, cmap=cmap, vmax=.3, center=0,\n",
    "            square=True, linewidths=.5, cbar_kws={\"shrink\": .5});"
   ]
  },
  {
   "cell_type": "code",
   "execution_count": 36,
   "metadata": {},
   "outputs": [],
   "source": [
    "#From the above heatmap we can see the highly correlated variables with dark green associated\n",
    "#For example\n",
    "#V4 variable is highly correlated with V14 Month to Month and Churn V17 is correlated with most of the variables with No internete service and NO classes\n",
    "\n",
    "#Like the above examples we can interpret the variables with most correlated in the same data set\n",
    "\n",
    "#Important variables"
   ]
  },
  {
   "cell_type": "code",
   "execution_count": 37,
   "metadata": {},
   "outputs": [],
   "source": [
    "X = New_df.loc[:, New_df.columns != 'Churn']\n",
    "y = New_df[\"Churn\"]\n",
    "\n",
    "x_train, x_test, y_train, y_test = train_test_split(X, y, test_size=0.2,random_state =1)"
   ]
  },
  {
   "cell_type": "code",
   "execution_count": 38,
   "metadata": {},
   "outputs": [
    {
     "data": {
      "image/png": "[encoded data removed]",
      "text/plain": [
       "<Figure size 720x864 with 1 Axes>"
      ]
     },
     "metadata": {
      "needs_background": "light"
     },
     "output_type": "display_data"
    }
   ],
   "source": [
    "params = {'random_state': 0, 'n_jobs': 4, 'n_estimators': 5000, 'max_depth': 8}\n",
    "\n",
    "# Fit RandomForest Classifier\n",
    "clf = RandomForestClassifier(**params)\n",
    "clf = clf.fit(X, y)\n",
    "# Plot features importances\n",
    "imp = pd.Series(data=clf.feature_importances_, index=X.columns).sort_values(ascending=False)\n",
    "plt.figure(figsize=(10,12))\n",
    "plt.title(\"Feature importance\")\n",
    "ax = sns.barplot(y=imp.index, x=imp.values, palette=\"Blues_d\", orient='h')\n"
   ]
  },
  {
   "cell_type": "code",
   "execution_count": 39,
   "metadata": {},
   "outputs": [
    {
     "data": {
      "image/png": "[encoded data removed]",
      "text/plain": [
       "<Figure size 432x288 with 1 Axes>"
      ]
     },
     "metadata": {
      "needs_background": "light"
     },
     "output_type": "display_data"
    }
   ],
   "source": [
    "#Since V4 having the highest important variables lets look more closely\n",
    "# V4 distibution \n",
    "g = sns.kdeplot(New_df.V4[(New_df[\"Churn\"] == 0) ], color=\"Red\", shade = True)\n",
    "g = sns.kdeplot(New_df.V4[(New_df[\"Churn\"] == 1) ], ax =g, color=\"Blue\", shade= True)\n",
    "g.set_xlabel(\"V4\")\n",
    "g.set_ylabel(\"Frequency\")\n",
    "plt.title('Distribution of tenure comparing with churn feature')\n",
    "g = g.legend([\"Not Churn\",\"Churn\"])"
   ]
  },
  {
   "cell_type": "code",
   "execution_count": 40,
   "metadata": {},
   "outputs": [
    {
     "name": "stdout",
     "output_type": "stream",
     "text": [
      "[0, 1, 2, 3, 4, 5, 6, 7, 8, 9, 10, 11, 12, 13, 14, 15, 16, 17, 18, 19, 20, 21, 22, 23, 24, 25, 26, 27, 28, 29, 30, 31, 32, 33, 34, 35, 36, 37, 38, 39, 40, 41, 42, 43, 44, 45, 46, 47, 48, 49, 50, 51, 52, 53, 54, 55, 56, 57, 58, 59, 60, 61, 62, 63, 64, 65, 66, 67, 68, 69, 70, 71, 72]\n"
     ]
    }
   ],
   "source": [
    "#There is a chnace that customer will churn based on V4 . Lesser the range more chance of churn\n",
    "print(sorted(New_df[\"V4\"].unique()))"
   ]
  },
  {
   "cell_type": "code",
   "execution_count": 41,
   "metadata": {},
   "outputs": [],
   "source": [
    "#According to above important variables plot, V17 & V18 may affect to churn probability.\n",
    "#And seem like customer will not churn if they have lower range\n",
    "#Split train and test\n",
    "X = New_df.loc[:, New_df.columns != 'Churn']\n",
    "y = New_df[\"Churn\"]\n",
    "\n",
    "x_train, x_test, y_train, y_test = train_test_split(X, y, test_size=0.2,random_state =1)"
   ]
  },
  {
   "cell_type": "code",
   "execution_count": 42,
   "metadata": {},
   "outputs": [
    {
     "name": "stdout",
     "output_type": "stream",
     "text": [
      "The number of samples into the Train data is 5634.\n",
      "The number of samples into the test data is 1409.\n"
     ]
    }
   ],
   "source": [
    "print('The number of samples into the Train data is {}.'.format(x_train.shape[0]))\n",
    "print('The number of samples into the test data is {}.'.format(x_test.shape[0]))"
   ]
  },
  {
   "cell_type": "code",
   "execution_count": 43,
   "metadata": {},
   "outputs": [
    {
     "data": {
      "text/plain": [
       "LogisticRegression(C=1.0, class_weight=None, dual=False, fit_intercept=True,\n",
       "                   intercept_scaling=1, l1_ratio=None, max_iter=100,\n",
       "                   multi_class='warn', n_jobs=None, penalty='l2',\n",
       "                   random_state=None, solver='warn', tol=0.0001, verbose=0,\n",
       "                   warm_start=False)"
      ]
     },
     "execution_count": 43,
     "metadata": {},
     "output_type": "execute_result"
    }
   ],
   "source": [
    "logistic_model = LogisticRegression()\n",
    "logistic_model.fit(x_train,y_train)"
   ]
  },
  {
   "cell_type": "code",
   "execution_count": 44,
   "metadata": {},
   "outputs": [
    {
     "name": "stdout",
     "output_type": "stream",
     "text": [
      "Logistic Regression accuracy is : 81.12136266855926\n"
     ]
    }
   ],
   "source": [
    "accuracy = logistic_model.score(x_test,y_test)\n",
    "print(\"Logistic Regression accuracy is :\",accuracy*100)"
   ]
  },
  {
   "cell_type": "code",
   "execution_count": 45,
   "metadata": {},
   "outputs": [
    {
     "data": {
      "image/png": "[encoded data removed]",
      "text/plain": [
       "<Figure size 360x360 with 2 Axes>"
      ]
     },
     "metadata": {
      "needs_background": "light"
     },
     "output_type": "display_data"
    }
   ],
   "source": [
    "#for Logistic Regression\n",
    "cm_lr = confusion_matrix(y_test,logistic_model.predict(x_test))\n",
    "\n",
    "# %% confusion matrix visualization\n",
    "import seaborn as sns\n",
    "f, ax = plt.subplots(figsize = (5,5))\n",
    "sns.heatmap(cm_lr, annot = True, linewidths = 0.5, color = \"red\", fmt = \".0f\", ax=ax)\n",
    "plt.xlabel(\"y_predicted\")\n",
    "plt.ylabel(\"y_true\")\n",
    "plt.title(\"Confusion Matrix of Logistic Regression\")\n",
    "plt.show()"
   ]
  },
  {
   "cell_type": "code",
   "execution_count": 46,
   "metadata": {},
   "outputs": [],
   "source": [
    "### Using Grid search CV and L2 Penality for logistic regression\n",
    "# Define Model parameters to tune\n",
    "model_parameters = {\n",
    "        'C': [1,10,100,1000],\n",
    "        'class_weight': ['balanced', None]\n",
    "    }"
   ]
  },
  {
   "cell_type": "code",
   "execution_count": 49,
   "metadata": {},
   "outputs": [
    {
     "name": "stdout",
     "output_type": "stream",
     "text": [
      "Fitting 500 folds for each of 8 candidates, totalling 4000 fits\n"
     ]
    },
    {
     "name": "stderr",
     "output_type": "stream",
     "text": [
      "[Parallel(n_jobs=-1)]: Using backend LokyBackend with 4 concurrent workers.\n",
      "[Parallel(n_jobs=-1)]: Done  76 tasks      | elapsed:    2.8s\n",
      "[Parallel(n_jobs=-1)]: Done 376 tasks      | elapsed:   14.5s\n",
      "[Parallel(n_jobs=-1)]: Done 876 tasks      | elapsed:   33.5s\n",
      "[Parallel(n_jobs=-1)]: Done 1576 tasks      | elapsed:  1.0min\n",
      "[Parallel(n_jobs=-1)]: Done 2476 tasks      | elapsed:  1.6min\n",
      "[Parallel(n_jobs=-1)]: Done 3576 tasks      | elapsed:  2.5min\n",
      "[Parallel(n_jobs=-1)]: Done 4000 out of 4000 | elapsed:  2.9min finished\n"
     ]
    },
    {
     "name": "stdout",
     "output_type": "stream",
     "text": [
      "0:02:53.108936\n"
     ]
    }
   ],
   "source": [
    "from datetime import time\n",
    "from datetime import timedelta\n",
    "from datetime import datetime\n",
    "starttime=datetime.now()\n",
    "\n",
    "from sklearn.model_selection import train_test_split, cross_val_score, GridSearchCV\n",
    "# Gridsearch the parameters to find the best parameters. Using L2 penalty\n",
    "model = LogisticRegression(penalty='l2')\n",
    "gscv = GridSearchCV(estimator=model, \n",
    "                    param_grid=model_parameters, \n",
    "                    cv=500, \n",
    "                    verbose=1, \n",
    "                    n_jobs=-1,\n",
    "                    scoring='f1')\n",
    "\n",
    "gscv.fit(x_train, y_train)\n",
    "endtime=datetime.now()\n",
    "print(endtime-starttime)\n",
    "#cv=5 time taken 0:00:01.581181 The best parameter are - {'C': 10, 'class_weight': 'balanced'}\n",
    "#cv=500 time taken 0:00:18.348093 The best parameter are - {'C': 100, 'class_weight': 'balanced'}\n",
    "#cv=2000 time taken 9 to 12 The best parameter are - {'C': 100, 'class_weight': 'balanced'}"
   ]
  },
  {
   "cell_type": "code",
   "execution_count": 50,
   "metadata": {},
   "outputs": [
    {
     "name": "stdout",
     "output_type": "stream",
     "text": [
      "The best parameter are - {'C': 10, 'class_weight': 'balanced'}\n"
     ]
    }
   ],
   "source": [
    "print('The best parameter are -', gscv.best_params_)"
   ]
  },
  {
   "cell_type": "code",
   "execution_count": 51,
   "metadata": {},
   "outputs": [
    {
     "data": {
      "text/plain": [
       "LogisticRegression(C=10, class_weight='balanced', dual=False,\n",
       "                   fit_intercept=True, intercept_scaling=1, l1_ratio=None,\n",
       "                   max_iter=100, multi_class='warn', n_jobs=None, penalty='l2',\n",
       "                   random_state=None, solver='warn', tol=0.0001, verbose=0,\n",
       "                   warm_start=False)"
      ]
     },
     "execution_count": 51,
     "metadata": {},
     "output_type": "execute_result"
    }
   ],
   "source": [
    "# Re-fit the model with the best parameters\n",
    "final_mod = LogisticRegression(**gscv.best_params_)\n",
    "final_mod.fit(x_train,y_train)"
   ]
  },
  {
   "cell_type": "code",
   "execution_count": null,
   "metadata": {},
   "outputs": [],
   "source": []
  },
  {
   "cell_type": "code",
   "execution_count": 52,
   "metadata": {},
   "outputs": [
    {
     "data": {
      "text/plain": [
       "[('V1', 0.18422816261389574),\n",
       " ('V4', -0.05404048059640286),\n",
       " ('V17', 0.007001481586643155),\n",
       " ('V18', 0.0002702017096484016),\n",
       " ('gender', -0.034761558981736336),\n",
       " ('V2', 0.0254797765606081),\n",
       " ('V3', -0.0809368071776825),\n",
       " ('V5', -0.2427945431295253),\n",
       " ('V15', 0.29741598159225247),\n",
       " ('V6_No', -0.2073820853486396),\n",
       " ('V6_No phone service', 0.1724559390978064),\n",
       " ('V6_Yes', -0.03541245778081653),\n",
       " ('V7_DSL', -0.2944442362267692),\n",
       " ('V7_Fiber optic', 0.29847858551524553),\n",
       " ('V7_No', -0.07437295332015098),\n",
       " ('V8_No', 0.20632611149272842),\n",
       " ('V8_No internet service', -0.07437295332015098),\n",
       " ('V8_Yes', -0.2022917622042418),\n",
       " ('V9_No', 0.09805810885093437),\n",
       " ('V9_No internet service', -0.07437295332015098),\n",
       " ('V9_Yes', -0.09402375956245283),\n",
       " ('V10_No', 0.07369285084462046),\n",
       " ('V10_No internet service', -0.07437295332015098),\n",
       " ('V10_Yes', -0.0696585015561462),\n",
       " ('V11_No', 0.17657907478515625),\n",
       " ('V11_No internet service', -0.07437295332015098),\n",
       " ('V11_Yes', -0.17254472549668498),\n",
       " ('V12_No', -0.0396577691696307),\n",
       " ('V12_No internet service', -0.07437295332015098),\n",
       " ('V12_Yes', 0.04369211845812207),\n",
       " ('V13_No', -0.09097174574123477),\n",
       " ('V13_No internet service', -0.07437295332015098),\n",
       " ('V13_Yes', 0.09500609502972601),\n",
       " ('V14_Month-to-month', 0.6567206997790582),\n",
       " ('V14_One year', 0.020924446586509396),\n",
       " ('V14_Two year', -0.7479837503972336),\n",
       " ('V16_Bank transfer (automatic)', -0.07327471378932526),\n",
       " ('V16_Credit card (automatic)', -0.08507021708864412),\n",
       " ('V16_Electronic check', 0.222984441849279),\n",
       " ('V16_Mailed check', -0.1349781150029558)]"
      ]
     },
     "execution_count": 52,
     "metadata": {},
     "output_type": "execute_result"
    }
   ],
   "source": [
    "# View the model coefficients\n",
    "list(zip(x_train.columns, final_mod.coef_[0]))"
   ]
  },
  {
   "cell_type": "code",
   "execution_count": 53,
   "metadata": {},
   "outputs": [
    {
     "name": "stdout",
     "output_type": "stream",
     "text": [
      "              precision    recall  f1-score   support\n",
      "\n",
      "           0       0.93      0.73      0.82      1061\n",
      "           1       0.50      0.83      0.63       348\n",
      "\n",
      "    accuracy                           0.76      1409\n",
      "   macro avg       0.72      0.78      0.72      1409\n",
      "weighted avg       0.82      0.76      0.77      1409\n",
      "\n"
     ]
    }
   ],
   "source": [
    "from sklearn.metrics import classification_report\n",
    "\n",
    "print(classification_report(y_test,final_mod.predict(x_test)))"
   ]
  },
  {
   "cell_type": "code",
   "execution_count": 54,
   "metadata": {},
   "outputs": [
    {
     "name": "stdout",
     "output_type": "stream",
     "text": [
      "Train AUC =  0.845355316516176\n",
      "Test AUC =  0.858189248919367\n"
     ]
    },
    {
     "data": {
      "image/png": "[encoded data removed]",
      "text/plain": [
       "<Figure size 720x360 with 1 Axes>"
      ]
     },
     "metadata": {
      "needs_background": "light"
     },
     "output_type": "display_data"
    }
   ],
   "source": [
    "# Generate ROC\n",
    "plt.subplots(figsize=(10, 5))\n",
    "train_prob = final_mod.predict_proba(x_train)[:, 1]\n",
    "test_prob = final_mod.predict_proba(x_test)[:, 1]\n",
    "\n",
    "plot_roc_curve(y_train, train_prob,\n",
    "               y_test, test_prob)"
   ]
  },
  {
   "cell_type": "code",
   "execution_count": 55,
   "metadata": {},
   "outputs": [],
   "source": [
    "from skopt.space import Integer, Categorical, Real\n",
    "from skopt.utils import use_named_args\n",
    "from skopt import gp_minimize"
   ]
  },
  {
   "cell_type": "code",
   "execution_count": 60,
   "metadata": {},
   "outputs": [],
   "source": [
    "#Scikit Optimize\n",
    "\n",
    "# set up hyperparameter space\n",
    "space = [Integer(1, 10, name='C'),\n",
    "         #Integer(8, 256, name='n_estimators'),\n",
    "         Categorical(['balanced', None], name='class_weight'),\n",
    "         Categorical(['newton-cg', 'lbfgs', 'sag','saga'], name='solver'),\n",
    "         ]\n",
    "\n",
    "regressor = LogisticRegression()\n",
    "\n",
    "from sklearn.model_selection import cross_val_score\n",
    "\n",
    "@use_named_args(space)\n",
    "def objective(**params):\n",
    "    regressor.set_params(**params)\n",
    "    return -np.mean(cross_val_score(regressor, x_train, y_train, cv=5, n_jobs=1, scoring='neg_mean_absolute_error'))"
   ]
  },
  {
   "cell_type": "code",
   "execution_count": 61,
   "metadata": {},
   "outputs": [
    {
     "name": "stdout",
     "output_type": "stream",
     "text": [
      "Iteration No: 1 started. Evaluating function at random point.\n",
      "Iteration No: 1 ended. Evaluation done at random point.\n",
      "Time taken: 0.7875\n",
      "Function value obtained: 0.1988\n",
      "Current minimum: 0.1988\n",
      "Iteration No: 2 started. Evaluating function at random point.\n",
      "Iteration No: 2 ended. Evaluation done at random point.\n",
      "Time taken: 2.8813\n",
      "Function value obtained: 0.3479\n",
      "Current minimum: 0.1988\n",
      "Iteration No: 3 started. Evaluating function at random point.\n",
      "Iteration No: 3 ended. Evaluation done at random point.\n",
      "Time taken: 1.3351\n",
      "Function value obtained: 0.1990\n",
      "Current minimum: 0.1988\n",
      "Iteration No: 4 started. Evaluating function at random point.\n",
      "Iteration No: 4 ended. Evaluation done at random point.\n",
      "Time taken: 2.7137\n",
      "Function value obtained: 0.3305\n",
      "Current minimum: 0.1988\n",
      "Iteration No: 5 started. Evaluating function at random point.\n",
      "Iteration No: 5 ended. Evaluation done at random point.\n",
      "Time taken: 2.4757\n",
      "Function value obtained: 0.3307\n",
      "Current minimum: 0.1988\n",
      "Iteration No: 6 started. Evaluating function at random point.\n",
      "Iteration No: 6 ended. Evaluation done at random point.\n",
      "Time taken: 2.4401\n",
      "Function value obtained: 0.3479\n",
      "Current minimum: 0.1988\n",
      "Iteration No: 7 started. Evaluating function at random point.\n",
      "Iteration No: 7 ended. Evaluation done at random point.\n",
      "Time taken: 5.9488\n",
      "Function value obtained: 0.1972\n",
      "Current minimum: 0.1972\n",
      "Iteration No: 8 started. Evaluating function at random point.\n",
      "Iteration No: 8 ended. Evaluation done at random point.\n",
      "Time taken: 2.9291\n",
      "Function value obtained: 0.2430\n",
      "Current minimum: 0.1972\n",
      "Iteration No: 9 started. Evaluating function at random point.\n",
      "Iteration No: 9 ended. Evaluation done at random point.\n",
      "Time taken: 4.8106\n",
      "Function value obtained: 0.2599\n",
      "Current minimum: 0.1972\n",
      "Iteration No: 10 started. Evaluating function at random point.\n",
      "Iteration No: 10 ended. Evaluation done at random point.\n",
      "Time taken: 1.6834\n",
      "Function value obtained: 0.2519\n",
      "Current minimum: 0.1972\n",
      "Iteration No: 11 started. Searching for the next optimal point.\n",
      "Iteration No: 11 ended. Search finished for the next optimal point.\n",
      "Time taken: 1.4937\n",
      "Function value obtained: 0.1988\n",
      "Current minimum: 0.1972\n",
      "Iteration No: 12 started. Searching for the next optimal point.\n",
      "Iteration No: 12 ended. Search finished for the next optimal point.\n",
      "Time taken: 3.1430\n",
      "Function value obtained: 0.2364\n",
      "Current minimum: 0.1972\n",
      "Iteration No: 13 started. Searching for the next optimal point.\n",
      "Iteration No: 13 ended. Search finished for the next optimal point.\n",
      "Time taken: 5.3457\n",
      "Function value obtained: 0.1956\n",
      "Current minimum: 0.1956\n",
      "Iteration No: 14 started. Searching for the next optimal point.\n",
      "Iteration No: 14 ended. Search finished for the next optimal point.\n",
      "Time taken: 5.8221\n",
      "Function value obtained: 0.1956\n",
      "Current minimum: 0.1956\n",
      "Iteration No: 15 started. Searching for the next optimal point.\n",
      "Iteration No: 15 ended. Search finished for the next optimal point.\n",
      "Time taken: 7.1542\n",
      "Function value obtained: 0.1972\n",
      "Current minimum: 0.1956\n",
      "Iteration No: 16 started. Searching for the next optimal point.\n",
      "Iteration No: 16 ended. Search finished for the next optimal point.\n",
      "Time taken: 5.6832\n",
      "Function value obtained: 0.1956\n",
      "Current minimum: 0.1956\n",
      "Iteration No: 17 started. Searching for the next optimal point.\n",
      "Iteration No: 17 ended. Search finished for the next optimal point.\n",
      "Time taken: 1.4010\n",
      "Function value obtained: 0.2000\n",
      "Current minimum: 0.1956\n",
      "Iteration No: 18 started. Searching for the next optimal point.\n",
      "Iteration No: 18 ended. Search finished for the next optimal point.\n",
      "Time taken: 6.7526\n",
      "Function value obtained: 0.1972\n",
      "Current minimum: 0.1956\n",
      "Iteration No: 19 started. Searching for the next optimal point.\n",
      "Iteration No: 19 ended. Search finished for the next optimal point.\n",
      "Time taken: 1.8059\n",
      "Function value obtained: 0.2000\n",
      "Current minimum: 0.1956\n",
      "Iteration No: 20 started. Searching for the next optimal point.\n",
      "Iteration No: 20 ended. Search finished for the next optimal point.\n",
      "Time taken: 5.8801\n",
      "Function value obtained: 0.1956\n",
      "Current minimum: 0.1956\n",
      "Iteration No: 21 started. Searching for the next optimal point.\n",
      "Iteration No: 21 ended. Search finished for the next optimal point.\n",
      "Time taken: 6.1813\n",
      "Function value obtained: 0.1956\n",
      "Current minimum: 0.1956\n",
      "Iteration No: 22 started. Searching for the next optimal point.\n",
      "Iteration No: 22 ended. Search finished for the next optimal point.\n",
      "Time taken: 7.2270\n",
      "Function value obtained: 0.1972\n",
      "Current minimum: 0.1956\n",
      "Iteration No: 23 started. Searching for the next optimal point.\n",
      "Iteration No: 23 ended. Search finished for the next optimal point.\n",
      "Time taken: 5.8668\n",
      "Function value obtained: 0.1956\n",
      "Current minimum: 0.1956\n",
      "Iteration No: 24 started. Searching for the next optimal point.\n",
      "Iteration No: 24 ended. Search finished for the next optimal point.\n",
      "Time taken: 1.4496\n",
      "Function value obtained: 0.1988\n",
      "Current minimum: 0.1956\n",
      "Iteration No: 25 started. Searching for the next optimal point.\n",
      "Iteration No: 25 ended. Search finished for the next optimal point.\n",
      "Time taken: 5.9701\n",
      "Function value obtained: 0.1956\n",
      "Current minimum: 0.1956\n",
      "Iteration No: 26 started. Searching for the next optimal point.\n",
      "Iteration No: 26 ended. Search finished for the next optimal point.\n",
      "Time taken: 7.2155\n",
      "Function value obtained: 0.1972\n",
      "Current minimum: 0.1956\n",
      "Iteration No: 27 started. Searching for the next optimal point.\n",
      "Iteration No: 27 ended. Search finished for the next optimal point.\n",
      "Time taken: 1.6618\n",
      "Function value obtained: 0.2000\n",
      "Current minimum: 0.1956\n",
      "Iteration No: 28 started. Searching for the next optimal point.\n",
      "Iteration No: 28 ended. Search finished for the next optimal point.\n",
      "Time taken: 6.1477\n",
      "Function value obtained: 0.1956\n",
      "Current minimum: 0.1956\n",
      "Iteration No: 29 started. Searching for the next optimal point.\n",
      "Iteration No: 29 ended. Search finished for the next optimal point.\n",
      "Time taken: 6.3175\n",
      "Function value obtained: 0.1956\n",
      "Current minimum: 0.1956\n",
      "Iteration No: 30 started. Searching for the next optimal point.\n",
      "Iteration No: 30 ended. Search finished for the next optimal point.\n",
      "Time taken: 6.9617\n",
      "Function value obtained: 0.1972\n",
      "Current minimum: 0.1956\n",
      "Iteration No: 31 started. Searching for the next optimal point.\n",
      "Iteration No: 31 ended. Search finished for the next optimal point.\n",
      "Time taken: 1.8036\n",
      "Function value obtained: 0.1988\n",
      "Current minimum: 0.1956\n",
      "Iteration No: 32 started. Searching for the next optimal point.\n",
      "Iteration No: 32 ended. Search finished for the next optimal point.\n",
      "Time taken: 1.6544\n",
      "Function value obtained: 0.2000\n",
      "Current minimum: 0.1956\n",
      "Iteration No: 33 started. Searching for the next optimal point.\n",
      "Iteration No: 33 ended. Search finished for the next optimal point.\n",
      "Time taken: 5.8922\n",
      "Function value obtained: 0.1956\n",
      "Current minimum: 0.1956\n",
      "Iteration No: 34 started. Searching for the next optimal point.\n",
      "Iteration No: 34 ended. Search finished for the next optimal point.\n",
      "Time taken: 7.0280\n",
      "Function value obtained: 0.1972\n",
      "Current minimum: 0.1956\n",
      "Iteration No: 35 started. Searching for the next optimal point.\n",
      "Iteration No: 35 ended. Search finished for the next optimal point.\n",
      "Time taken: 5.8981\n",
      "Function value obtained: 0.1956\n",
      "Current minimum: 0.1956\n",
      "Iteration No: 36 started. Searching for the next optimal point.\n",
      "Iteration No: 36 ended. Search finished for the next optimal point.\n",
      "Time taken: 7.2079\n",
      "Function value obtained: 0.1972\n",
      "Current minimum: 0.1956\n",
      "Iteration No: 37 started. Searching for the next optimal point.\n",
      "Iteration No: 37 ended. Search finished for the next optimal point.\n",
      "Time taken: 1.7030\n",
      "Function value obtained: 0.1988\n",
      "Current minimum: 0.1956\n",
      "Iteration No: 38 started. Searching for the next optimal point.\n",
      "Iteration No: 38 ended. Search finished for the next optimal point.\n",
      "Time taken: 1.8543\n",
      "Function value obtained: 0.2000\n",
      "Current minimum: 0.1956\n",
      "Iteration No: 39 started. Searching for the next optimal point.\n",
      "Iteration No: 39 ended. Search finished for the next optimal point.\n",
      "Time taken: 7.5579\n",
      "Function value obtained: 0.1972\n",
      "Current minimum: 0.1956\n",
      "Iteration No: 40 started. Searching for the next optimal point.\n",
      "Iteration No: 40 ended. Search finished for the next optimal point.\n",
      "Time taken: 6.1867\n",
      "Function value obtained: 0.1956\n",
      "Current minimum: 0.1956\n",
      "Iteration No: 41 started. Searching for the next optimal point.\n"
     ]
    },
    {
     "name": "stdout",
     "output_type": "stream",
     "text": [
      "Iteration No: 41 ended. Search finished for the next optimal point.\n",
      "Time taken: 6.6551\n",
      "Function value obtained: 0.1956\n",
      "Current minimum: 0.1956\n",
      "Iteration No: 42 started. Searching for the next optimal point.\n",
      "Iteration No: 42 ended. Search finished for the next optimal point.\n",
      "Time taken: 1.8527\n",
      "Function value obtained: 0.1988\n",
      "Current minimum: 0.1956\n",
      "Iteration No: 43 started. Searching for the next optimal point.\n",
      "Iteration No: 43 ended. Search finished for the next optimal point.\n",
      "Time taken: 7.8887\n",
      "Function value obtained: 0.1972\n",
      "Current minimum: 0.1956\n",
      "Iteration No: 44 started. Searching for the next optimal point.\n",
      "Iteration No: 44 ended. Search finished for the next optimal point.\n",
      "Time taken: 2.0001\n",
      "Function value obtained: 0.2000\n",
      "Current minimum: 0.1956\n",
      "Iteration No: 45 started. Searching for the next optimal point.\n",
      "Iteration No: 45 ended. Search finished for the next optimal point.\n",
      "Time taken: 7.8872\n",
      "Function value obtained: 0.1972\n",
      "Current minimum: 0.1956\n",
      "Iteration No: 46 started. Searching for the next optimal point.\n",
      "Iteration No: 46 ended. Search finished for the next optimal point.\n",
      "Time taken: 6.6458\n",
      "Function value obtained: 0.1956\n",
      "Current minimum: 0.1956\n",
      "Iteration No: 47 started. Searching for the next optimal point.\n",
      "Iteration No: 47 ended. Search finished for the next optimal point.\n",
      "Time taken: 1.8963\n",
      "Function value obtained: 0.1988\n",
      "Current minimum: 0.1956\n",
      "Iteration No: 48 started. Searching for the next optimal point.\n",
      "Iteration No: 48 ended. Search finished for the next optimal point.\n",
      "Time taken: 6.6025\n",
      "Function value obtained: 0.1956\n",
      "Current minimum: 0.1956\n",
      "Iteration No: 49 started. Searching for the next optimal point.\n",
      "Iteration No: 49 ended. Search finished for the next optimal point.\n",
      "Time taken: 7.6396\n",
      "Function value obtained: 0.1972\n",
      "Current minimum: 0.1956\n",
      "Iteration No: 50 started. Searching for the next optimal point.\n",
      "Iteration No: 50 ended. Search finished for the next optimal point.\n",
      "Time taken: 2.3162\n",
      "Function value obtained: 0.2000\n",
      "Current minimum: 0.1956\n",
      "Iteration No: 51 started. Searching for the next optimal point.\n",
      "Iteration No: 51 ended. Search finished for the next optimal point.\n",
      "Time taken: 7.7146\n",
      "Function value obtained: 0.1972\n",
      "Current minimum: 0.1956\n",
      "Iteration No: 52 started. Searching for the next optimal point.\n",
      "Iteration No: 52 ended. Search finished for the next optimal point.\n",
      "Time taken: 6.6622\n",
      "Function value obtained: 0.1956\n",
      "Current minimum: 0.1956\n",
      "Iteration No: 53 started. Searching for the next optimal point.\n",
      "Iteration No: 53 ended. Search finished for the next optimal point.\n",
      "Time taken: 7.6063\n",
      "Function value obtained: 0.1956\n",
      "Current minimum: 0.1956\n",
      "Iteration No: 54 started. Searching for the next optimal point.\n",
      "Iteration No: 54 ended. Search finished for the next optimal point.\n",
      "Time taken: 2.5329\n",
      "Function value obtained: 0.1988\n",
      "Current minimum: 0.1956\n",
      "Iteration No: 55 started. Searching for the next optimal point.\n",
      "Iteration No: 55 ended. Search finished for the next optimal point.\n",
      "Time taken: 3.0489\n",
      "Function value obtained: 0.2000\n",
      "Current minimum: 0.1956\n",
      "Iteration No: 56 started. Searching for the next optimal point.\n",
      "Iteration No: 56 ended. Search finished for the next optimal point.\n",
      "Time taken: 6.9265\n",
      "Function value obtained: 0.1956\n",
      "Current minimum: 0.1956\n",
      "Iteration No: 57 started. Searching for the next optimal point.\n",
      "Iteration No: 57 ended. Search finished for the next optimal point.\n",
      "Time taken: 7.9335\n",
      "Function value obtained: 0.1972\n",
      "Current minimum: 0.1956\n",
      "Iteration No: 58 started. Searching for the next optimal point.\n",
      "Iteration No: 58 ended. Search finished for the next optimal point.\n",
      "Time taken: 2.2494\n",
      "Function value obtained: 0.1988\n",
      "Current minimum: 0.1956\n",
      "Iteration No: 59 started. Searching for the next optimal point.\n",
      "Iteration No: 59 ended. Search finished for the next optimal point.\n",
      "Time taken: 6.8083\n",
      "Function value obtained: 0.1956\n",
      "Current minimum: 0.1956\n",
      "Iteration No: 60 started. Searching for the next optimal point.\n",
      "Iteration No: 60 ended. Search finished for the next optimal point.\n",
      "Time taken: 8.0961\n",
      "Function value obtained: 0.1972\n",
      "Current minimum: 0.1956\n",
      "Iteration No: 61 started. Searching for the next optimal point.\n",
      "Iteration No: 61 ended. Search finished for the next optimal point.\n",
      "Time taken: 6.6529\n",
      "Function value obtained: 0.1956\n",
      "Current minimum: 0.1956\n",
      "Iteration No: 62 started. Searching for the next optimal point.\n",
      "Iteration No: 62 ended. Search finished for the next optimal point.\n",
      "Time taken: 6.9133\n",
      "Function value obtained: 0.1956\n",
      "Current minimum: 0.1956\n",
      "Iteration No: 63 started. Searching for the next optimal point.\n",
      "Iteration No: 63 ended. Search finished for the next optimal point.\n",
      "Time taken: 2.4304\n",
      "Function value obtained: 0.2000\n",
      "Current minimum: 0.1956\n",
      "Iteration No: 64 started. Searching for the next optimal point.\n",
      "Iteration No: 64 ended. Search finished for the next optimal point.\n",
      "Time taken: 6.9032\n",
      "Function value obtained: 0.1956\n",
      "Current minimum: 0.1956\n",
      "Iteration No: 65 started. Searching for the next optimal point.\n",
      "Iteration No: 65 ended. Search finished for the next optimal point.\n",
      "Time taken: 4.1497\n",
      "Function value obtained: 0.2364\n",
      "Current minimum: 0.1956\n",
      "Iteration No: 66 started. Searching for the next optimal point.\n",
      "Iteration No: 66 ended. Search finished for the next optimal point.\n",
      "Time taken: 8.3324\n",
      "Function value obtained: 0.1972\n",
      "Current minimum: 0.1956\n",
      "Iteration No: 67 started. Searching for the next optimal point.\n",
      "Iteration No: 67 ended. Search finished for the next optimal point.\n",
      "Time taken: 7.0593\n",
      "Function value obtained: 0.1956\n",
      "Current minimum: 0.1956\n",
      "Iteration No: 68 started. Searching for the next optimal point.\n",
      "Iteration No: 68 ended. Search finished for the next optimal point.\n",
      "Time taken: 6.9133\n",
      "Function value obtained: 0.1956\n",
      "Current minimum: 0.1956\n",
      "Iteration No: 69 started. Searching for the next optimal point.\n",
      "Iteration No: 69 ended. Search finished for the next optimal point.\n",
      "Time taken: 2.4735\n",
      "Function value obtained: 0.1988\n",
      "Current minimum: 0.1956\n",
      "Iteration No: 70 started. Searching for the next optimal point.\n",
      "Iteration No: 70 ended. Search finished for the next optimal point.\n",
      "Time taken: 2.5843\n",
      "Function value obtained: 0.2000\n",
      "Current minimum: 0.1956\n",
      "Iteration No: 71 started. Searching for the next optimal point.\n",
      "Iteration No: 71 ended. Search finished for the next optimal point.\n",
      "Time taken: 7.2628\n",
      "Function value obtained: 0.1956\n",
      "Current minimum: 0.1956\n",
      "Iteration No: 72 started. Searching for the next optimal point.\n",
      "Iteration No: 72 ended. Search finished for the next optimal point.\n",
      "Time taken: 8.2263\n",
      "Function value obtained: 0.1972\n",
      "Current minimum: 0.1956\n",
      "Iteration No: 73 started. Searching for the next optimal point.\n",
      "Iteration No: 73 ended. Search finished for the next optimal point.\n",
      "Time taken: 7.0624\n",
      "Function value obtained: 0.1956\n",
      "Current minimum: 0.1956\n",
      "Iteration No: 74 started. Searching for the next optimal point.\n",
      "Iteration No: 74 ended. Search finished for the next optimal point.\n",
      "Time taken: 2.4006\n",
      "Function value obtained: 0.1988\n",
      "Current minimum: 0.1956\n",
      "Iteration No: 75 started. Searching for the next optimal point.\n",
      "Iteration No: 75 ended. Search finished for the next optimal point.\n",
      "Time taken: 4.8869\n",
      "Function value obtained: 0.1956\n",
      "Current minimum: 0.1956\n",
      "Iteration No: 76 started. Searching for the next optimal point.\n",
      "Iteration No: 76 ended. Search finished for the next optimal point.\n",
      "Time taken: 3.9903\n",
      "Function value obtained: 0.1956\n",
      "Current minimum: 0.1956\n",
      "Iteration No: 77 started. Searching for the next optimal point.\n",
      "Iteration No: 77 ended. Search finished for the next optimal point.\n",
      "Time taken: 4.3334\n",
      "Function value obtained: 0.1956\n",
      "Current minimum: 0.1956\n",
      "Iteration No: 78 started. Searching for the next optimal point.\n",
      "Iteration No: 78 ended. Search finished for the next optimal point.\n",
      "Time taken: 4.3055\n",
      "Function value obtained: 0.1956\n",
      "Current minimum: 0.1956\n",
      "Iteration No: 79 started. Searching for the next optimal point.\n",
      "Iteration No: 79 ended. Search finished for the next optimal point.\n",
      "Time taken: 4.8161\n",
      "Function value obtained: 0.1956\n",
      "Current minimum: 0.1956\n",
      "Iteration No: 80 started. Searching for the next optimal point.\n",
      "Iteration No: 80 ended. Search finished for the next optimal point.\n",
      "Time taken: 4.0562\n",
      "Function value obtained: 0.1956\n",
      "Current minimum: 0.1956\n",
      "Iteration No: 81 started. Searching for the next optimal point.\n"
     ]
    },
    {
     "name": "stdout",
     "output_type": "stream",
     "text": [
      "Iteration No: 81 ended. Search finished for the next optimal point.\n",
      "Time taken: 4.2526\n",
      "Function value obtained: 0.1956\n",
      "Current minimum: 0.1956\n",
      "Iteration No: 82 started. Searching for the next optimal point.\n",
      "Iteration No: 82 ended. Search finished for the next optimal point.\n",
      "Time taken: 4.0043\n",
      "Function value obtained: 0.1956\n",
      "Current minimum: 0.1956\n",
      "Iteration No: 83 started. Searching for the next optimal point.\n",
      "Iteration No: 83 ended. Search finished for the next optimal point.\n",
      "Time taken: 4.2077\n",
      "Function value obtained: 0.1956\n",
      "Current minimum: 0.1956\n",
      "Iteration No: 84 started. Searching for the next optimal point.\n",
      "Iteration No: 84 ended. Search finished for the next optimal point.\n",
      "Time taken: 5.5083\n",
      "Function value obtained: 0.1972\n",
      "Current minimum: 0.1956\n",
      "Iteration No: 85 started. Searching for the next optimal point.\n",
      "Iteration No: 85 ended. Search finished for the next optimal point.\n",
      "Time taken: 4.3992\n",
      "Function value obtained: 0.1956\n",
      "Current minimum: 0.1956\n",
      "Iteration No: 86 started. Searching for the next optimal point.\n",
      "Iteration No: 86 ended. Search finished for the next optimal point.\n",
      "Time taken: 2.3318\n",
      "Function value obtained: 0.2000\n",
      "Current minimum: 0.1956\n",
      "Iteration No: 87 started. Searching for the next optimal point.\n",
      "Iteration No: 87 ended. Search finished for the next optimal point.\n",
      "Time taken: 6.6233\n",
      "Function value obtained: 0.1972\n",
      "Current minimum: 0.1956\n",
      "Iteration No: 88 started. Searching for the next optimal point.\n",
      "Iteration No: 88 ended. Search finished for the next optimal point.\n",
      "Time taken: 4.7074\n",
      "Function value obtained: 0.1956\n",
      "Current minimum: 0.1956\n",
      "Iteration No: 89 started. Searching for the next optimal point.\n",
      "Iteration No: 89 ended. Search finished for the next optimal point.\n",
      "Time taken: 4.1639\n",
      "Function value obtained: 0.1956\n",
      "Current minimum: 0.1956\n",
      "Iteration No: 90 started. Searching for the next optimal point.\n",
      "Iteration No: 90 ended. Search finished for the next optimal point.\n",
      "Time taken: 1.8840\n",
      "Function value obtained: 0.1988\n",
      "Current minimum: 0.1956\n",
      "Iteration No: 91 started. Searching for the next optimal point.\n",
      "Iteration No: 91 ended. Search finished for the next optimal point.\n",
      "Time taken: 4.7732\n",
      "Function value obtained: 0.1956\n",
      "Current minimum: 0.1956\n",
      "Iteration No: 92 started. Searching for the next optimal point.\n",
      "Iteration No: 92 ended. Search finished for the next optimal point.\n",
      "Time taken: 2.2420\n",
      "Function value obtained: 0.2000\n",
      "Current minimum: 0.1956\n",
      "Iteration No: 93 started. Searching for the next optimal point.\n",
      "Iteration No: 93 ended. Search finished for the next optimal point.\n",
      "Time taken: 5.1991\n",
      "Function value obtained: 0.1972\n",
      "Current minimum: 0.1956\n",
      "Iteration No: 94 started. Searching for the next optimal point.\n",
      "Iteration No: 94 ended. Search finished for the next optimal point.\n",
      "Time taken: 4.4840\n",
      "Function value obtained: 0.1956\n",
      "Current minimum: 0.1956\n",
      "Iteration No: 95 started. Searching for the next optimal point.\n",
      "Iteration No: 95 ended. Search finished for the next optimal point.\n",
      "Time taken: 4.6017\n",
      "Function value obtained: 0.1956\n",
      "Current minimum: 0.1956\n",
      "Iteration No: 96 started. Searching for the next optimal point.\n",
      "Iteration No: 96 ended. Search finished for the next optimal point.\n",
      "Time taken: 4.8979\n",
      "Function value obtained: 0.1956\n",
      "Current minimum: 0.1956\n",
      "Iteration No: 97 started. Searching for the next optimal point.\n",
      "Iteration No: 97 ended. Search finished for the next optimal point.\n",
      "Time taken: 4.5468\n",
      "Function value obtained: 0.1956\n",
      "Current minimum: 0.1956\n",
      "Iteration No: 98 started. Searching for the next optimal point.\n",
      "Iteration No: 98 ended. Search finished for the next optimal point.\n",
      "Time taken: 4.7982\n",
      "Function value obtained: 0.1956\n",
      "Current minimum: 0.1956\n",
      "Iteration No: 99 started. Searching for the next optimal point.\n",
      "Iteration No: 99 ended. Search finished for the next optimal point.\n",
      "Time taken: 4.8301\n",
      "Function value obtained: 0.1956\n",
      "Current minimum: 0.1956\n",
      "Iteration No: 100 started. Searching for the next optimal point.\n",
      "Iteration No: 100 ended. Search finished for the next optimal point.\n",
      "Time taken: 5.0395\n",
      "Function value obtained: 0.1956\n",
      "Current minimum: 0.1956\n",
      "best score: 0.1955964446333608\n",
      "best params:\n",
      "       C: 1\n",
      "     class_weight: None\n",
      "    solver: newton-cg\n"
     ]
    }
   ],
   "source": [
    "reg_gp = gp_minimize(objective, space, verbose=True)\n",
    "\n",
    "print('best score: {}'.format(reg_gp.fun))\n",
    "\n",
    "print('best params:')\n",
    "print('       C: {}'.format(reg_gp.x[0]))\n",
    "print('     class_weight: {}'.format(reg_gp.x[1]))\n",
    "print('    solver: {}'.format(reg_gp.x[2]))\n"
   ]
  },
  {
   "cell_type": "code",
   "execution_count": 67,
   "metadata": {},
   "outputs": [
    {
     "data": {
      "text/plain": [
       "LogisticRegression(C=1, class_weight='None', dual=False, fit_intercept=True,\n",
       "                   intercept_scaling=1, l1_ratio=None, max_iter=100,\n",
       "                   multi_class='warn', n_jobs=None, penalty='l2',\n",
       "                   random_state=None, solver='newton-cg', tol=0.0001, verbose=0,\n",
       "                   warm_start=False)"
      ]
     },
     "execution_count": 67,
     "metadata": {},
     "output_type": "execute_result"
    }
   ],
   "source": [
    "# Re-fit the model with the best parameters\n",
    "final_mod2 = LogisticRegression(C=1,class_weight='None',solver='newton-cg')\n",
    "final_mod2.fit(x_train,y_train)"
   ]
  },
  {
   "cell_type": "code",
   "execution_count": 68,
   "metadata": {},
   "outputs": [
    {
     "data": {
      "text/plain": [
       "[('V1', 0.19161410942527574),\n",
       " ('V4', -0.06011827396878559),\n",
       " ('V17', -0.011191139381048442),\n",
       " ('V18', 0.00032308596399723314),\n",
       " ('gender', -0.029883037663952026),\n",
       " ('V2', 0.031535325683001415),\n",
       " ('V3', -0.06719567987512234),\n",
       " ('V5', -0.06952434164118344),\n",
       " ('V15', 0.3236387889550095),\n",
       " ('V6_No', -0.17660959328560044),\n",
       " ('V6_No phone service', 0.06951432043654995),\n",
       " ('V6_Yes', 0.1070852516443493),\n",
       " ('V7_DSL', -0.45074548998702874),\n",
       " ('V7_Fiber optic', 0.5946788673756858),\n",
       " ('V7_No', -0.14394339859352828),\n",
       " ('V8_No', 0.23558282881006795),\n",
       " ('V8_No internet service', -0.14394339859352828),\n",
       " ('V8_Yes', -0.09164945142135457),\n",
       " ('V9_No', 0.13574284532196362),\n",
       " ('V9_No internet service', -0.14394339859352828),\n",
       " ('V9_Yes', 0.008190532066922274),\n",
       " ('V10_No', 0.08886073626688173),\n",
       " ('V10_No internet service', -0.14394339859352828),\n",
       " ('V10_Yes', 0.05507264112186677),\n",
       " ('V11_No', 0.2196762588657091),\n",
       " ('V11_No internet service', -0.14394339859352828),\n",
       " ('V11_Yes', -0.07574288147698367),\n",
       " ('V12_No', -0.052151600339148924),\n",
       " ('V12_No internet service', -0.14394339859352828),\n",
       " ('V12_Yes', 0.19608497772779546),\n",
       " ('V13_No', -0.10638235368788074),\n",
       " ('V13_No internet service', -0.14394339859352828),\n",
       " ('V13_Yes', 0.2503157310767053),\n",
       " ('V14_Month-to-month', 0.6862561862276847),\n",
       " ('V14_One year', 0.040170644213707016),\n",
       " ('V14_Two year', -0.726436851646166),\n",
       " ('V16_Bank transfer (automatic)', -0.059236986065825954),\n",
       " ('V16_Credit card (automatic)', -0.08414266874036931),\n",
       " ('V16_Electronic check', 0.2406273824762494),\n",
       " ('V16_Mailed check', -0.09725774887474743)]"
      ]
     },
     "execution_count": 68,
     "metadata": {},
     "output_type": "execute_result"
    }
   ],
   "source": [
    "# View the model coefficients\n",
    "list(zip(x_train.columns, final_mod2.coef_[0]))"
   ]
  },
  {
   "cell_type": "code",
   "execution_count": 69,
   "metadata": {},
   "outputs": [
    {
     "name": "stdout",
     "output_type": "stream",
     "text": [
      "              precision    recall  f1-score   support\n",
      "\n",
      "           0       0.87      0.89      0.88      1061\n",
      "           1       0.63      0.59      0.61       348\n",
      "\n",
      "    accuracy                           0.81      1409\n",
      "   macro avg       0.75      0.74      0.74      1409\n",
      "weighted avg       0.81      0.81      0.81      1409\n",
      "\n"
     ]
    }
   ],
   "source": [
    "print(classification_report(y_test,final_mod2.predict(x_test)))"
   ]
  },
  {
   "cell_type": "code",
   "execution_count": 70,
   "metadata": {},
   "outputs": [
    {
     "name": "stdout",
     "output_type": "stream",
     "text": [
      "Train AUC =  0.8457269672833831\n",
      "Test AUC =  0.8583084164797903\n"
     ]
    },
    {
     "data": {
      "image/png": "[encoded data removed]",
      "text/plain": [
       "<Figure size 720x360 with 1 Axes>"
      ]
     },
     "metadata": {
      "needs_background": "light"
     },
     "output_type": "display_data"
    }
   ],
   "source": [
    "# Generate ROC\n",
    "plt.subplots(figsize=(10, 5))\n",
    "train_prob2 = final_mod2.predict_proba(x_train)[:, 1]\n",
    "test_prob2 = final_mod2.predict_proba(x_test)[:, 1]\n",
    "\n",
    "plot_roc_curve(y_train, train_prob2,\n",
    "               y_test, test_prob2)"
   ]
  },
  {
   "cell_type": "code",
   "execution_count": 76,
   "metadata": {},
   "outputs": [],
   "source": [
    "#Scikit Optimize\n",
    "\n",
    "# set up hyperparameter space\n",
    "space = [Integer(1, 10, name='C'),\n",
    "         #Integer(8, 256, name='n_estimators'),\n",
    "         Categorical(['balanced', None], name='class_weight'),\n",
    "         Categorical(['newton-cg', 'lbfgs', 'sag','saga'], name='solver'),\n",
    "         ]\n",
    "\n",
    "regressor2 = LogisticRegression()\n",
    "\n",
    "from sklearn.model_selection import cross_val_score\n",
    "\n",
    "@use_named_args(space)\n",
    "def objective2(**params):\n",
    "    regressor.set_params(**params)\n",
    "    return np.mean(cross_val_score(regressor2, x_train, y_train, cv=5, n_jobs=1, scoring='f1'))"
   ]
  },
  {
   "cell_type": "code",
   "execution_count": 77,
   "metadata": {},
   "outputs": [
    {
     "name": "stdout",
     "output_type": "stream",
     "text": [
      "Iteration No: 1 started. Evaluating function at random point.\n",
      "Iteration No: 1 ended. Evaluation done at random point.\n",
      "Time taken: 0.2763\n",
      "Function value obtained: 0.6041\n",
      "Current minimum: 0.6041\n",
      "Iteration No: 2 started. Evaluating function at random point.\n",
      "Iteration No: 2 ended. Evaluation done at random point.\n",
      "Time taken: 0.3002\n",
      "Function value obtained: 0.6041\n",
      "Current minimum: 0.6041\n",
      "Iteration No: 3 started. Evaluating function at random point.\n",
      "Iteration No: 3 ended. Evaluation done at random point.\n",
      "Time taken: 0.2892\n",
      "Function value obtained: 0.6041\n",
      "Current minimum: 0.6041\n",
      "Iteration No: 4 started. Evaluating function at random point.\n",
      "Iteration No: 4 ended. Evaluation done at random point.\n",
      "Time taken: 0.2882\n",
      "Function value obtained: 0.6041\n",
      "Current minimum: 0.6041\n",
      "Iteration No: 5 started. Evaluating function at random point.\n",
      "Iteration No: 5 ended. Evaluation done at random point.\n",
      "Time taken: 0.3351\n",
      "Function value obtained: 0.6041\n",
      "Current minimum: 0.6041\n",
      "Iteration No: 6 started. Evaluating function at random point.\n",
      "Iteration No: 6 ended. Evaluation done at random point.\n",
      "Time taken: 0.3261\n",
      "Function value obtained: 0.6041\n",
      "Current minimum: 0.6041\n",
      "Iteration No: 7 started. Evaluating function at random point.\n",
      "Iteration No: 7 ended. Evaluation done at random point.\n",
      "Time taken: 0.3411\n",
      "Function value obtained: 0.6041\n",
      "Current minimum: 0.6041\n",
      "Iteration No: 8 started. Evaluating function at random point.\n",
      "Iteration No: 8 ended. Evaluation done at random point.\n",
      "Time taken: 0.3072\n",
      "Function value obtained: 0.6041\n",
      "Current minimum: 0.6041\n",
      "Iteration No: 9 started. Evaluating function at random point.\n",
      "Iteration No: 9 ended. Evaluation done at random point.\n",
      "Time taken: 0.3102\n",
      "Function value obtained: 0.6041\n",
      "Current minimum: 0.6041\n",
      "Iteration No: 10 started. Evaluating function at random point.\n",
      "Iteration No: 10 ended. Evaluation done at random point.\n",
      "Time taken: 0.6183\n",
      "Function value obtained: 0.6041\n",
      "Current minimum: 0.6041\n",
      "Iteration No: 11 started. Searching for the next optimal point.\n",
      "Iteration No: 11 ended. Search finished for the next optimal point.\n",
      "Time taken: 0.4907\n",
      "Function value obtained: 0.6041\n",
      "Current minimum: 0.6041\n",
      "Iteration No: 12 started. Searching for the next optimal point.\n",
      "Iteration No: 12 ended. Search finished for the next optimal point.\n",
      "Time taken: 0.5555\n",
      "Function value obtained: 0.6041\n",
      "Current minimum: 0.6041\n",
      "Iteration No: 13 started. Searching for the next optimal point.\n",
      "Iteration No: 13 ended. Search finished for the next optimal point.\n",
      "Time taken: 0.5605\n",
      "Function value obtained: 0.6041\n",
      "Current minimum: 0.6041\n",
      "Iteration No: 14 started. Searching for the next optimal point.\n",
      "Iteration No: 14 ended. Search finished for the next optimal point.\n",
      "Time taken: 0.5376\n",
      "Function value obtained: 0.6041\n",
      "Current minimum: 0.6041\n",
      "Iteration No: 15 started. Searching for the next optimal point.\n",
      "Iteration No: 15 ended. Search finished for the next optimal point.\n",
      "Time taken: 0.5296\n",
      "Function value obtained: 0.6041\n",
      "Current minimum: 0.6041\n",
      "Iteration No: 16 started. Searching for the next optimal point.\n",
      "Iteration No: 16 ended. Search finished for the next optimal point.\n",
      "Time taken: 0.5545\n",
      "Function value obtained: 0.6041\n",
      "Current minimum: 0.6041\n",
      "Iteration No: 17 started. Searching for the next optimal point.\n",
      "Iteration No: 17 ended. Search finished for the next optimal point.\n",
      "Time taken: 0.5874\n",
      "Function value obtained: 0.6041\n",
      "Current minimum: 0.6041\n",
      "Iteration No: 18 started. Searching for the next optimal point.\n",
      "Iteration No: 18 ended. Search finished for the next optimal point.\n",
      "Time taken: 0.5934\n",
      "Function value obtained: 0.6041\n",
      "Current minimum: 0.6041\n",
      "Iteration No: 19 started. Searching for the next optimal point.\n",
      "Iteration No: 19 ended. Search finished for the next optimal point.\n",
      "Time taken: 0.5974\n",
      "Function value obtained: 0.6041\n",
      "Current minimum: 0.6041\n",
      "Iteration No: 20 started. Searching for the next optimal point.\n",
      "Iteration No: 20 ended. Search finished for the next optimal point.\n",
      "Time taken: 0.6154\n",
      "Function value obtained: 0.6041\n",
      "Current minimum: 0.6041\n",
      "Iteration No: 21 started. Searching for the next optimal point.\n",
      "Iteration No: 21 ended. Search finished for the next optimal point.\n",
      "Time taken: 0.6383\n",
      "Function value obtained: 0.6041\n",
      "Current minimum: 0.6041\n",
      "Iteration No: 22 started. Searching for the next optimal point.\n",
      "Iteration No: 22 ended. Search finished for the next optimal point.\n",
      "Time taken: 0.6473\n",
      "Function value obtained: 0.6041\n",
      "Current minimum: 0.6041\n",
      "Iteration No: 23 started. Searching for the next optimal point.\n",
      "Iteration No: 23 ended. Search finished for the next optimal point.\n",
      "Time taken: 0.6193\n",
      "Function value obtained: 0.6041\n",
      "Current minimum: 0.6041\n",
      "Iteration No: 24 started. Searching for the next optimal point.\n",
      "Iteration No: 24 ended. Search finished for the next optimal point.\n",
      "Time taken: 0.6892\n",
      "Function value obtained: 0.6041\n",
      "Current minimum: 0.6041\n",
      "Iteration No: 25 started. Searching for the next optimal point.\n",
      "Iteration No: 25 ended. Search finished for the next optimal point.\n",
      "Time taken: 0.6373\n",
      "Function value obtained: 0.6041\n",
      "Current minimum: 0.6041\n",
      "Iteration No: 26 started. Searching for the next optimal point.\n",
      "Iteration No: 26 ended. Search finished for the next optimal point.\n",
      "Time taken: 0.6323\n",
      "Function value obtained: 0.6041\n",
      "Current minimum: 0.6041\n",
      "Iteration No: 27 started. Searching for the next optimal point.\n",
      "Iteration No: 27 ended. Search finished for the next optimal point.\n",
      "Time taken: 0.6552\n",
      "Function value obtained: 0.6041\n",
      "Current minimum: 0.6041\n",
      "Iteration No: 28 started. Searching for the next optimal point.\n",
      "Iteration No: 28 ended. Search finished for the next optimal point.\n",
      "Time taken: 0.6802\n",
      "Function value obtained: 0.6041\n",
      "Current minimum: 0.6041\n",
      "Iteration No: 29 started. Searching for the next optimal point.\n",
      "Iteration No: 29 ended. Search finished for the next optimal point.\n",
      "Time taken: 0.6752\n",
      "Function value obtained: 0.6041\n",
      "Current minimum: 0.6041\n",
      "Iteration No: 30 started. Searching for the next optimal point.\n",
      "Iteration No: 30 ended. Search finished for the next optimal point.\n",
      "Time taken: 0.6273\n",
      "Function value obtained: 0.6041\n",
      "Current minimum: 0.6041\n",
      "Iteration No: 31 started. Searching for the next optimal point.\n",
      "Iteration No: 31 ended. Search finished for the next optimal point.\n",
      "Time taken: 0.6572\n",
      "Function value obtained: 0.6041\n",
      "Current minimum: 0.6041\n",
      "Iteration No: 32 started. Searching for the next optimal point.\n",
      "Iteration No: 32 ended. Search finished for the next optimal point.\n",
      "Time taken: 0.6453\n",
      "Function value obtained: 0.6041\n",
      "Current minimum: 0.6041\n",
      "Iteration No: 33 started. Searching for the next optimal point.\n",
      "Iteration No: 33 ended. Search finished for the next optimal point.\n",
      "Time taken: 0.6822\n",
      "Function value obtained: 0.6041\n",
      "Current minimum: 0.6041\n",
      "Iteration No: 34 started. Searching for the next optimal point.\n",
      "Iteration No: 34 ended. Search finished for the next optimal point.\n",
      "Time taken: 0.7570\n",
      "Function value obtained: 0.6041\n",
      "Current minimum: 0.6041\n",
      "Iteration No: 35 started. Searching for the next optimal point.\n",
      "Iteration No: 35 ended. Search finished for the next optimal point.\n",
      "Time taken: 0.6702\n",
      "Function value obtained: 0.6041\n",
      "Current minimum: 0.6041\n",
      "Iteration No: 36 started. Searching for the next optimal point.\n",
      "Iteration No: 36 ended. Search finished for the next optimal point.\n",
      "Time taken: 0.7021\n",
      "Function value obtained: 0.6041\n",
      "Current minimum: 0.6041\n",
      "Iteration No: 37 started. Searching for the next optimal point.\n",
      "Iteration No: 37 ended. Search finished for the next optimal point.\n",
      "Time taken: 0.7300\n",
      "Function value obtained: 0.6041\n",
      "Current minimum: 0.6041\n",
      "Iteration No: 38 started. Searching for the next optimal point.\n",
      "Iteration No: 38 ended. Search finished for the next optimal point.\n",
      "Time taken: 0.7221\n",
      "Function value obtained: 0.6041\n",
      "Current minimum: 0.6041\n",
      "Iteration No: 39 started. Searching for the next optimal point.\n",
      "Iteration No: 39 ended. Search finished for the next optimal point.\n",
      "Time taken: 0.7360\n",
      "Function value obtained: 0.6041\n",
      "Current minimum: 0.6041\n",
      "Iteration No: 40 started. Searching for the next optimal point.\n",
      "Iteration No: 40 ended. Search finished for the next optimal point.\n",
      "Time taken: 0.8408\n",
      "Function value obtained: 0.6041\n",
      "Current minimum: 0.6041\n",
      "Iteration No: 41 started. Searching for the next optimal point.\n"
     ]
    },
    {
     "name": "stdout",
     "output_type": "stream",
     "text": [
      "Iteration No: 41 ended. Search finished for the next optimal point.\n",
      "Time taken: 0.7500\n",
      "Function value obtained: 0.6041\n",
      "Current minimum: 0.6041\n",
      "Iteration No: 42 started. Searching for the next optimal point.\n",
      "Iteration No: 42 ended. Search finished for the next optimal point.\n",
      "Time taken: 0.7600\n",
      "Function value obtained: 0.6041\n",
      "Current minimum: 0.6041\n",
      "Iteration No: 43 started. Searching for the next optimal point.\n",
      "Iteration No: 43 ended. Search finished for the next optimal point.\n",
      "Time taken: 0.8647\n",
      "Function value obtained: 0.6041\n",
      "Current minimum: 0.6041\n",
      "Iteration No: 44 started. Searching for the next optimal point.\n",
      "Iteration No: 44 ended. Search finished for the next optimal point.\n",
      "Time taken: 0.8757\n",
      "Function value obtained: 0.6041\n",
      "Current minimum: 0.6041\n",
      "Iteration No: 45 started. Searching for the next optimal point.\n",
      "Iteration No: 45 ended. Search finished for the next optimal point.\n",
      "Time taken: 0.8138\n",
      "Function value obtained: 0.6041\n",
      "Current minimum: 0.6041\n",
      "Iteration No: 46 started. Searching for the next optimal point.\n",
      "Iteration No: 46 ended. Search finished for the next optimal point.\n",
      "Time taken: 0.8767\n",
      "Function value obtained: 0.6041\n",
      "Current minimum: 0.6041\n",
      "Iteration No: 47 started. Searching for the next optimal point.\n",
      "Iteration No: 47 ended. Search finished for the next optimal point.\n",
      "Time taken: 0.9963\n",
      "Function value obtained: 0.6041\n",
      "Current minimum: 0.6041\n",
      "Iteration No: 48 started. Searching for the next optimal point.\n",
      "Iteration No: 48 ended. Search finished for the next optimal point.\n",
      "Time taken: 1.0213\n",
      "Function value obtained: 0.6041\n",
      "Current minimum: 0.6041\n",
      "Iteration No: 49 started. Searching for the next optimal point.\n",
      "Iteration No: 49 ended. Search finished for the next optimal point.\n",
      "Time taken: 1.0292\n",
      "Function value obtained: 0.6041\n",
      "Current minimum: 0.6041\n",
      "Iteration No: 50 started. Searching for the next optimal point.\n",
      "Iteration No: 50 ended. Search finished for the next optimal point.\n",
      "Time taken: 0.9066\n",
      "Function value obtained: 0.6041\n",
      "Current minimum: 0.6041\n",
      "Iteration No: 51 started. Searching for the next optimal point.\n",
      "Iteration No: 51 ended. Search finished for the next optimal point.\n",
      "Time taken: 0.9136\n",
      "Function value obtained: 0.6041\n",
      "Current minimum: 0.6041\n",
      "Iteration No: 52 started. Searching for the next optimal point.\n",
      "Iteration No: 52 ended. Search finished for the next optimal point.\n",
      "Time taken: 0.8737\n",
      "Function value obtained: 0.6041\n",
      "Current minimum: 0.6041\n",
      "Iteration No: 53 started. Searching for the next optimal point.\n",
      "Iteration No: 53 ended. Search finished for the next optimal point.\n",
      "Time taken: 1.0033\n",
      "Function value obtained: 0.6041\n",
      "Current minimum: 0.6041\n",
      "Iteration No: 54 started. Searching for the next optimal point.\n",
      "Iteration No: 54 ended. Search finished for the next optimal point.\n",
      "Time taken: 1.0422\n",
      "Function value obtained: 0.6041\n",
      "Current minimum: 0.6041\n",
      "Iteration No: 55 started. Searching for the next optimal point.\n",
      "Iteration No: 55 ended. Search finished for the next optimal point.\n",
      "Time taken: 0.9535\n",
      "Function value obtained: 0.6041\n",
      "Current minimum: 0.6041\n",
      "Iteration No: 56 started. Searching for the next optimal point.\n",
      "Iteration No: 56 ended. Search finished for the next optimal point.\n",
      "Time taken: 0.9375\n",
      "Function value obtained: 0.6041\n",
      "Current minimum: 0.6041\n",
      "Iteration No: 57 started. Searching for the next optimal point.\n",
      "Iteration No: 57 ended. Search finished for the next optimal point.\n",
      "Time taken: 0.7320\n",
      "Function value obtained: 0.6041\n",
      "Current minimum: 0.6041\n",
      "Iteration No: 58 started. Searching for the next optimal point.\n",
      "Iteration No: 58 ended. Search finished for the next optimal point.\n",
      "Time taken: 0.9814\n",
      "Function value obtained: 0.6041\n",
      "Current minimum: 0.6041\n",
      "Iteration No: 59 started. Searching for the next optimal point.\n",
      "Iteration No: 59 ended. Search finished for the next optimal point.\n",
      "Time taken: 1.1070\n",
      "Function value obtained: 0.6041\n",
      "Current minimum: 0.6041\n",
      "Iteration No: 60 started. Searching for the next optimal point.\n",
      "Iteration No: 60 ended. Search finished for the next optimal point.\n",
      "Time taken: 0.9485\n",
      "Function value obtained: 0.6041\n",
      "Current minimum: 0.6041\n",
      "Iteration No: 61 started. Searching for the next optimal point.\n",
      "Iteration No: 61 ended. Search finished for the next optimal point.\n",
      "Time taken: 0.8757\n",
      "Function value obtained: 0.6041\n",
      "Current minimum: 0.6041\n",
      "Iteration No: 62 started. Searching for the next optimal point.\n",
      "Iteration No: 62 ended. Search finished for the next optimal point.\n",
      "Time taken: 0.7440\n",
      "Function value obtained: 0.6041\n",
      "Current minimum: 0.6041\n",
      "Iteration No: 63 started. Searching for the next optimal point.\n",
      "Iteration No: 63 ended. Search finished for the next optimal point.\n",
      "Time taken: 1.3344\n",
      "Function value obtained: 0.6041\n",
      "Current minimum: 0.6041\n",
      "Iteration No: 64 started. Searching for the next optimal point.\n",
      "Iteration No: 64 ended. Search finished for the next optimal point.\n",
      "Time taken: 1.3145\n",
      "Function value obtained: 0.6041\n",
      "Current minimum: 0.6041\n",
      "Iteration No: 65 started. Searching for the next optimal point.\n",
      "Iteration No: 65 ended. Search finished for the next optimal point.\n",
      "Time taken: 1.3783\n",
      "Function value obtained: 0.6041\n",
      "Current minimum: 0.6041\n",
      "Iteration No: 66 started. Searching for the next optimal point.\n",
      "Iteration No: 66 ended. Search finished for the next optimal point.\n",
      "Time taken: 1.4651\n",
      "Function value obtained: 0.6041\n",
      "Current minimum: 0.6041\n",
      "Iteration No: 67 started. Searching for the next optimal point.\n",
      "Iteration No: 67 ended. Search finished for the next optimal point.\n",
      "Time taken: 1.2267\n",
      "Function value obtained: 0.6041\n",
      "Current minimum: 0.6041\n",
      "Iteration No: 68 started. Searching for the next optimal point.\n",
      "Iteration No: 68 ended. Search finished for the next optimal point.\n",
      "Time taken: 1.0971\n",
      "Function value obtained: 0.6041\n",
      "Current minimum: 0.6041\n",
      "Iteration No: 69 started. Searching for the next optimal point.\n",
      "Iteration No: 69 ended. Search finished for the next optimal point.\n",
      "Time taken: 0.8487\n",
      "Function value obtained: 0.6041\n",
      "Current minimum: 0.6041\n",
      "Iteration No: 70 started. Searching for the next optimal point.\n",
      "Iteration No: 70 ended. Search finished for the next optimal point.\n",
      "Time taken: 0.8048\n",
      "Function value obtained: 0.6041\n",
      "Current minimum: 0.6041\n",
      "Iteration No: 71 started. Searching for the next optimal point.\n",
      "Iteration No: 71 ended. Search finished for the next optimal point.\n",
      "Time taken: 1.0542\n",
      "Function value obtained: 0.6041\n",
      "Current minimum: 0.6041\n",
      "Iteration No: 72 started. Searching for the next optimal point.\n",
      "Iteration No: 72 ended. Search finished for the next optimal point.\n",
      "Time taken: 0.9604\n",
      "Function value obtained: 0.6041\n",
      "Current minimum: 0.6041\n",
      "Iteration No: 73 started. Searching for the next optimal point.\n",
      "Iteration No: 73 ended. Search finished for the next optimal point.\n",
      "Time taken: 0.9066\n",
      "Function value obtained: 0.6041\n",
      "Current minimum: 0.6041\n",
      "Iteration No: 74 started. Searching for the next optimal point.\n",
      "Iteration No: 74 ended. Search finished for the next optimal point.\n",
      "Time taken: 0.9664\n",
      "Function value obtained: 0.6041\n",
      "Current minimum: 0.6041\n",
      "Iteration No: 75 started. Searching for the next optimal point.\n",
      "Iteration No: 75 ended. Search finished for the next optimal point.\n",
      "Time taken: 1.0602\n",
      "Function value obtained: 0.6041\n",
      "Current minimum: 0.6041\n",
      "Iteration No: 76 started. Searching for the next optimal point.\n",
      "Iteration No: 76 ended. Search finished for the next optimal point.\n",
      "Time taken: 0.8248\n",
      "Function value obtained: 0.6041\n",
      "Current minimum: 0.6041\n",
      "Iteration No: 77 started. Searching for the next optimal point.\n",
      "Iteration No: 77 ended. Search finished for the next optimal point.\n",
      "Time taken: 0.9375\n",
      "Function value obtained: 0.6041\n",
      "Current minimum: 0.6041\n",
      "Iteration No: 78 started. Searching for the next optimal point.\n",
      "Iteration No: 78 ended. Search finished for the next optimal point.\n",
      "Time taken: 1.0921\n",
      "Function value obtained: 0.6041\n",
      "Current minimum: 0.6041\n",
      "Iteration No: 79 started. Searching for the next optimal point.\n",
      "Iteration No: 79 ended. Search finished for the next optimal point.\n",
      "Time taken: 0.8826\n",
      "Function value obtained: 0.6041\n",
      "Current minimum: 0.6041\n",
      "Iteration No: 80 started. Searching for the next optimal point.\n",
      "Iteration No: 80 ended. Search finished for the next optimal point.\n",
      "Time taken: 0.8916\n",
      "Function value obtained: 0.6041\n",
      "Current minimum: 0.6041\n",
      "Iteration No: 81 started. Searching for the next optimal point.\n"
     ]
    },
    {
     "name": "stdout",
     "output_type": "stream",
     "text": [
      "Iteration No: 81 ended. Search finished for the next optimal point.\n",
      "Time taken: 1.0981\n",
      "Function value obtained: 0.6041\n",
      "Current minimum: 0.6041\n",
      "Iteration No: 82 started. Searching for the next optimal point.\n",
      "Iteration No: 82 ended. Search finished for the next optimal point.\n",
      "Time taken: 1.0681\n",
      "Function value obtained: 0.6041\n",
      "Current minimum: 0.6041\n",
      "Iteration No: 83 started. Searching for the next optimal point.\n",
      "Iteration No: 83 ended. Search finished for the next optimal point.\n",
      "Time taken: 1.1469\n",
      "Function value obtained: 0.6041\n",
      "Current minimum: 0.6041\n",
      "Iteration No: 84 started. Searching for the next optimal point.\n",
      "Iteration No: 84 ended. Search finished for the next optimal point.\n",
      "Time taken: 1.1729\n",
      "Function value obtained: 0.6041\n",
      "Current minimum: 0.6041\n",
      "Iteration No: 85 started. Searching for the next optimal point.\n",
      "Iteration No: 85 ended. Search finished for the next optimal point.\n",
      "Time taken: 0.9544\n",
      "Function value obtained: 0.6041\n",
      "Current minimum: 0.6041\n",
      "Iteration No: 86 started. Searching for the next optimal point.\n",
      "Iteration No: 86 ended. Search finished for the next optimal point.\n",
      "Time taken: 1.1489\n",
      "Function value obtained: 0.6041\n",
      "Current minimum: 0.6041\n",
      "Iteration No: 87 started. Searching for the next optimal point.\n",
      "Iteration No: 87 ended. Search finished for the next optimal point.\n",
      "Time taken: 1.1798\n",
      "Function value obtained: 0.6041\n",
      "Current minimum: 0.6041\n",
      "Iteration No: 88 started. Searching for the next optimal point.\n",
      "Iteration No: 88 ended. Search finished for the next optimal point.\n",
      "Time taken: 0.9923\n",
      "Function value obtained: 0.6041\n",
      "Current minimum: 0.6041\n",
      "Iteration No: 89 started. Searching for the next optimal point.\n",
      "Iteration No: 89 ended. Search finished for the next optimal point.\n",
      "Time taken: 1.1709\n",
      "Function value obtained: 0.6041\n",
      "Current minimum: 0.6041\n",
      "Iteration No: 90 started. Searching for the next optimal point.\n",
      "Iteration No: 90 ended. Search finished for the next optimal point.\n",
      "Time taken: 1.1729\n",
      "Function value obtained: 0.6041\n",
      "Current minimum: 0.6041\n",
      "Iteration No: 91 started. Searching for the next optimal point.\n",
      "Iteration No: 91 ended. Search finished for the next optimal point.\n",
      "Time taken: 1.3354\n",
      "Function value obtained: 0.6041\n",
      "Current minimum: 0.6041\n",
      "Iteration No: 92 started. Searching for the next optimal point.\n",
      "Iteration No: 92 ended. Search finished for the next optimal point.\n",
      "Time taken: 1.5309\n",
      "Function value obtained: 0.6041\n",
      "Current minimum: 0.6041\n",
      "Iteration No: 93 started. Searching for the next optimal point.\n",
      "Iteration No: 93 ended. Search finished for the next optimal point.\n",
      "Time taken: 1.2636\n",
      "Function value obtained: 0.6041\n",
      "Current minimum: 0.6041\n",
      "Iteration No: 94 started. Searching for the next optimal point.\n",
      "Iteration No: 94 ended. Search finished for the next optimal point.\n",
      "Time taken: 1.5528\n",
      "Function value obtained: 0.6041\n",
      "Current minimum: 0.6041\n",
      "Iteration No: 95 started. Searching for the next optimal point.\n",
      "Iteration No: 95 ended. Search finished for the next optimal point.\n",
      "Time taken: 1.2566\n",
      "Function value obtained: 0.6041\n",
      "Current minimum: 0.6041\n",
      "Iteration No: 96 started. Searching for the next optimal point.\n",
      "Iteration No: 96 ended. Search finished for the next optimal point.\n",
      "Time taken: 1.4122\n",
      "Function value obtained: 0.6041\n",
      "Current minimum: 0.6041\n",
      "Iteration No: 97 started. Searching for the next optimal point.\n",
      "Iteration No: 97 ended. Search finished for the next optimal point.\n",
      "Time taken: 1.3115\n",
      "Function value obtained: 0.6041\n",
      "Current minimum: 0.6041\n",
      "Iteration No: 98 started. Searching for the next optimal point.\n",
      "Iteration No: 98 ended. Search finished for the next optimal point.\n",
      "Time taken: 1.3963\n",
      "Function value obtained: 0.6041\n",
      "Current minimum: 0.6041\n",
      "Iteration No: 99 started. Searching for the next optimal point.\n",
      "Iteration No: 99 ended. Search finished for the next optimal point.\n",
      "Time taken: 1.4322\n",
      "Function value obtained: 0.6041\n",
      "Current minimum: 0.6041\n",
      "Iteration No: 100 started. Searching for the next optimal point.\n",
      "Iteration No: 100 ended. Search finished for the next optimal point.\n",
      "Time taken: 1.2826\n",
      "Function value obtained: 0.6041\n",
      "Current minimum: 0.6041\n",
      "best score: 0.6040897595435184\n",
      "best params:\n",
      "       C: 8\n",
      "     class_weight: balanced\n",
      "    solver: newton-cg\n"
     ]
    }
   ],
   "source": [
    "reg_gp2 = gp_minimize(objective2, space, verbose=True)\n",
    "\n",
    "print('best score: {}'.format(reg_gp2.fun))\n",
    "\n",
    "print('best params:')\n",
    "print('       C: {}'.format(reg_gp2.x[0]))\n",
    "print('     class_weight: {}'.format(reg_gp2.x[1]))\n",
    "print('    solver: {}'.format(reg_gp2.x[2]))"
   ]
  },
  {
   "cell_type": "code",
   "execution_count": 73,
   "metadata": {},
   "outputs": [
    {
     "name": "stdout",
     "output_type": "stream",
     "text": [
      "              precision    recall  f1-score   support\n",
      "\n",
      "           0       0.87      0.89      0.88      1061\n",
      "           1       0.63      0.59      0.61       348\n",
      "\n",
      "    accuracy                           0.81      1409\n",
      "   macro avg       0.75      0.74      0.74      1409\n",
      "weighted avg       0.81      0.81      0.81      1409\n",
      "\n"
     ]
    }
   ],
   "source": [
    "# Re-fit the model with the best parameters\n",
    "final_mod3 = LogisticRegression(C=7,class_weight='None',solver='newton-cg')\n",
    "final_mod3.fit(x_train,y_train)\n",
    "print(classification_report(y_test,final_mod3.predict(x_test)))"
   ]
  },
  {
   "cell_type": "code",
   "execution_count": 85,
   "metadata": {},
   "outputs": [
    {
     "name": "stdout",
     "output_type": "stream",
     "text": [
      "Fitting 5 folds for each of 140 candidates, totalling 700 fits\n"
     ]
    },
    {
     "name": "stderr",
     "output_type": "stream",
     "text": [
      "[Parallel(n_jobs=-1)]: Using backend LokyBackend with 4 concurrent workers.\n",
      "[Parallel(n_jobs=-1)]: Done  42 tasks      | elapsed:    5.9s\n",
      "[Parallel(n_jobs=-1)]: Done 192 tasks      | elapsed:   20.0s\n",
      "[Parallel(n_jobs=-1)]: Done 442 tasks      | elapsed:   50.7s\n",
      "[Parallel(n_jobs=-1)]: Done 700 out of 700 | elapsed:  2.0min finished\n"
     ]
    }
   ],
   "source": [
    "# Create first pipeline for base without reducing features.\n",
    "from sklearn.pipeline import Pipeline\n",
    "pipe = Pipeline([('classifier' , RandomForestClassifier())])\n",
    "# pipe = Pipeline([('classifier', RandomForestClassifier())])\n",
    "\n",
    "# Create param grid.\n",
    "\n",
    "param_grid = [\n",
    "    {'classifier' : [LogisticRegression()],\n",
    "     'classifier__penalty' : ['l2'],\n",
    "    'classifier__C' : np.logspace(-4, 4, 20),\n",
    "    'classifier__solver' : ['newton-cg', 'lbfgs', 'sag','saga']},\n",
    "    {'classifier' : [RandomForestClassifier()],\n",
    "    'classifier__n_estimators' : list(range(10,101,10)),\n",
    "    'classifier__max_features' : list(range(6,32,5))}\n",
    "]\n",
    "\n",
    "# Create grid search object\n",
    "\n",
    "clf = GridSearchCV(pipe, param_grid = param_grid, cv = 5, verbose=True, n_jobs=-1)\n",
    "\n",
    "# Fit on data\n",
    "\n",
    "best_clf = clf.fit(x_train, y_train)"
   ]
  },
  {
   "cell_type": "code",
   "execution_count": 86,
   "metadata": {},
   "outputs": [
    {
     "name": "stdout",
     "output_type": "stream",
     "text": [
      "              precision    recall  f1-score   support\n",
      "\n",
      "           0       0.87      0.89      0.88      1061\n",
      "           1       0.63      0.59      0.61       348\n",
      "\n",
      "    accuracy                           0.81      1409\n",
      "   macro avg       0.75      0.74      0.74      1409\n",
      "weighted avg       0.81      0.81      0.81      1409\n",
      "\n"
     ]
    }
   ],
   "source": [
    "print(classification_report(y_test,best_clf.predict(x_test)))"
   ]
  },
  {
   "cell_type": "code",
   "execution_count": null,
   "metadata": {},
   "outputs": [],
   "source": []
  }
 ],
 "metadata": {
  "kernelspec": {
   "display_name": "Python 3",
   "language": "python",
   "name": "python3"
  },
  "language_info": {
   "codemirror_mode": {
    "name": "ipython",
    "version": 3
   },
   "file_extension": ".py",
   "mimetype": "text/x-python",
   "name": "python",
   "nbconvert_exporter": "python",
   "pygments_lexer": "ipython3",
   "version": "3.7.4"
  }
 },
 "nbformat": 4,
 "nbformat_minor": 2
}
